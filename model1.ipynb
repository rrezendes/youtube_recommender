{
 "cells": [
  {
   "cell_type": "code",
   "execution_count": 1,
   "metadata": {},
   "outputs": [],
   "source": [
    "import pandas as pd\n",
    "import numpy as np\n",
    "import re\n",
    "import time\n",
    "\n",
    "import bs4\n",
    "import json\n",
    "\n",
    "import glob\n",
    "import tqdm"
   ]
  },
  {
   "cell_type": "code",
   "execution_count": 2,
   "metadata": {},
   "outputs": [
    {
     "data": {
      "text/plain": [
       "(501, 16)"
      ]
     },
     "execution_count": 2,
     "metadata": {},
     "output_type": "execute_result"
    }
   ],
   "source": [
    "df = pd.read_csv(\"raw_data_with_labels.csv\", index_col=0)\n",
    "df = df[df['y'].notnull()]\n",
    "df.shape"
   ]
  },
  {
   "cell_type": "code",
   "execution_count": 3,
   "metadata": {},
   "outputs": [
    {
     "data": {
      "text/plain": [
       "(473, 16)"
      ]
     },
     "execution_count": 3,
     "metadata": {},
     "output_type": "execute_result"
    }
   ],
   "source": [
    "df = df[df['watch-time-text'].notnull()]\n",
    "df = df[df['watch-time-text'].str.contains('horas')==False]\n",
    "df.shape"
   ]
  },
  {
   "cell_type": "code",
   "execution_count": 4,
   "metadata": {},
   "outputs": [
    {
     "data": {
      "text/html": [
       "<div>\n",
       "<style scoped>\n",
       "    .dataframe tbody tr th:only-of-type {\n",
       "        vertical-align: middle;\n",
       "    }\n",
       "\n",
       "    .dataframe tbody tr th {\n",
       "        vertical-align: top;\n",
       "    }\n",
       "\n",
       "    .dataframe thead th {\n",
       "        text-align: right;\n",
       "    }\n",
       "</style>\n",
       "<table border=\"1\" class=\"dataframe\">\n",
       "  <thead>\n",
       "    <tr style=\"text-align: right;\">\n",
       "      <th></th>\n",
       "      <th>watch-title</th>\n",
       "      <th>y</th>\n",
       "      <th>watch-view-count</th>\n",
       "      <th>watch-time-text</th>\n",
       "      <th>content_watch-info-tag-list</th>\n",
       "      <th>watch7-headline</th>\n",
       "      <th>watch7-user-header</th>\n",
       "      <th>watch8-sentiment-actions</th>\n",
       "      <th>og:image</th>\n",
       "      <th>og:image:width</th>\n",
       "      <th>og:image:height</th>\n",
       "      <th>og:description</th>\n",
       "      <th>og:video:width</th>\n",
       "      <th>og:video:height</th>\n",
       "      <th>og:video:tag</th>\n",
       "      <th>channel_link_0</th>\n",
       "    </tr>\n",
       "  </thead>\n",
       "  <tbody>\n",
       "    <tr>\n",
       "      <th>0</th>\n",
       "      <td>Python For Data Science Full Course - 9 Hours ...</td>\n",
       "      <td>0.0</td>\n",
       "      <td>33.445 visualizações</td>\n",
       "      <td>Publicado em 15 de mar. de 2020</td>\n",
       "      <td>Educação</td>\n",
       "      <td>#edureka #PythonEdureka #pythonfordatasciencef...</td>\n",
       "      <td>edureka!\\nCarregando...\\nCancelar inscrição de...</td>\n",
       "      <td>33.445 visualizações\\n1.003\\nGostou deste víde...</td>\n",
       "      <td>https://i.ytimg.com/vi/-6RqxhNO2yY/maxresdefau...</td>\n",
       "      <td>1280</td>\n",
       "      <td>720</td>\n",
       "      <td>🔥Edureka Python Certification Training: https:...</td>\n",
       "      <td>1280.0</td>\n",
       "      <td>720.0</td>\n",
       "      <td>edureka</td>\n",
       "      <td>/channel/UCkw4JCwteGrDHIsyIIKo4tQ</td>\n",
       "    </tr>\n",
       "    <tr>\n",
       "      <th>1</th>\n",
       "      <td>Michael I. Jordan: Machine Learning: Dynamical...</td>\n",
       "      <td>1.0</td>\n",
       "      <td>4.640 visualizações</td>\n",
       "      <td>Publicado em 2 de mai. de 2019</td>\n",
       "      <td>Licença de atribuição Creative Commons (reutil...</td>\n",
       "      <td>#purdue #michaelijordan #engineering\\nMichael ...</td>\n",
       "      <td>Purdue Engineering\\nCarregando...\\nCancelar in...</td>\n",
       "      <td>4.640 visualizações\\n98\\nGostou deste vídeo?\\n...</td>\n",
       "      <td>https://i.ytimg.com/vi/-8yYFdV5SOc/maxresdefau...</td>\n",
       "      <td>1280</td>\n",
       "      <td>720</td>\n",
       "      <td>2019 Purdue Engineering Distinguished Lecture ...</td>\n",
       "      <td>1280.0</td>\n",
       "      <td>720.0</td>\n",
       "      <td>electrical engineer</td>\n",
       "      <td>/channel/UC8FZ6dzFVkCACLH9YoMNFog</td>\n",
       "    </tr>\n",
       "    <tr>\n",
       "      <th>2</th>\n",
       "      <td>Kaggle Live-Coding: RNNs for Sarcasm Detection...</td>\n",
       "      <td>1.0</td>\n",
       "      <td>1.570 visualizações</td>\n",
       "      <td>Transmitido ao vivo em 30 de nov. de 2018</td>\n",
       "      <td>Ciência e tecnologia</td>\n",
       "      <td>Kaggle Live-Coding: RNNs for Sarcasm Detection...</td>\n",
       "      <td>Kaggle\\nCarregando...\\nCancelar inscrição de K...</td>\n",
       "      <td>1.570 visualizações\\n34\\nGostou deste vídeo?\\n...</td>\n",
       "      <td>https://i.ytimg.com/vi/-9U84J178OQ/maxresdefau...</td>\n",
       "      <td>1280</td>\n",
       "      <td>720</td>\n",
       "      <td>Join Kaggle data scientist Rachael live as she...</td>\n",
       "      <td>1280.0</td>\n",
       "      <td>720.0</td>\n",
       "      <td>CS</td>\n",
       "      <td>/channel/UCSNeZleDn9c74yQc-EKnVTA</td>\n",
       "    </tr>\n",
       "    <tr>\n",
       "      <th>3</th>\n",
       "      <td>Can You Become a Data Scientist?</td>\n",
       "      <td>0.0</td>\n",
       "      <td>699.800 visualizações</td>\n",
       "      <td>Publicado em 14 de ago. de 2018</td>\n",
       "      <td>Educação</td>\n",
       "      <td>#data #science #datascientist\\nCan You Become ...</td>\n",
       "      <td>365 Data Science\\nCarregando...\\nCancelar insc...</td>\n",
       "      <td>699.800 visualizações\\n10.749\\nGostou deste ví...</td>\n",
       "      <td>https://i.ytimg.com/vi/-AkBfBWr_Gw/maxresdefau...</td>\n",
       "      <td>1280</td>\n",
       "      <td>720</td>\n",
       "      <td>👉 Download Our Free Data Science Career Guide:...</td>\n",
       "      <td>1280.0</td>\n",
       "      <td>720.0</td>\n",
       "      <td>data scientist</td>\n",
       "      <td>/channel/UCEBpSZhI1X8WaP-kY_2LLcg</td>\n",
       "    </tr>\n",
       "    <tr>\n",
       "      <th>4</th>\n",
       "      <td>Binary Image Classification with CNN (Deep Lea...</td>\n",
       "      <td>1.0</td>\n",
       "      <td>300 visualizações</td>\n",
       "      <td>Publicado em 23 de mar. de 2020</td>\n",
       "      <td>Ciência e tecnologia</td>\n",
       "      <td>#download #Kaggle #Google\\nBinary Image Classi...</td>\n",
       "      <td>TheClassofAI\\nCarregando...\\nCancelar inscriçã...</td>\n",
       "      <td>300 visualizações\\n9\\nGostou deste vídeo?\\nFaç...</td>\n",
       "      <td>https://i.ytimg.com/vi/-DDrE6T0ct4/hqdefault.jpg</td>\n",
       "      <td>480</td>\n",
       "      <td>360</td>\n",
       "      <td>In this tutorial, we have covered how to train...</td>\n",
       "      <td>1280.0</td>\n",
       "      <td>720.0</td>\n",
       "      <td>ImageClassification</td>\n",
       "      <td>/channel/UCYlOdJBJQN4c7k25uzwSwJA</td>\n",
       "    </tr>\n",
       "  </tbody>\n",
       "</table>\n",
       "</div>"
      ],
      "text/plain": [
       "                                         watch-title    y  \\\n",
       "0  Python For Data Science Full Course - 9 Hours ...  0.0   \n",
       "1  Michael I. Jordan: Machine Learning: Dynamical...  1.0   \n",
       "2  Kaggle Live-Coding: RNNs for Sarcasm Detection...  1.0   \n",
       "3                   Can You Become a Data Scientist?  0.0   \n",
       "4  Binary Image Classification with CNN (Deep Lea...  1.0   \n",
       "\n",
       "        watch-view-count                            watch-time-text  \\\n",
       "0   33.445 visualizações            Publicado em 15 de mar. de 2020   \n",
       "1    4.640 visualizações             Publicado em 2 de mai. de 2019   \n",
       "2    1.570 visualizações  Transmitido ao vivo em 30 de nov. de 2018   \n",
       "3  699.800 visualizações            Publicado em 14 de ago. de 2018   \n",
       "4      300 visualizações            Publicado em 23 de mar. de 2020   \n",
       "\n",
       "                         content_watch-info-tag-list  \\\n",
       "0                                           Educação   \n",
       "1  Licença de atribuição Creative Commons (reutil...   \n",
       "2                               Ciência e tecnologia   \n",
       "3                                           Educação   \n",
       "4                               Ciência e tecnologia   \n",
       "\n",
       "                                     watch7-headline  \\\n",
       "0  #edureka #PythonEdureka #pythonfordatasciencef...   \n",
       "1  #purdue #michaelijordan #engineering\\nMichael ...   \n",
       "2  Kaggle Live-Coding: RNNs for Sarcasm Detection...   \n",
       "3  #data #science #datascientist\\nCan You Become ...   \n",
       "4  #download #Kaggle #Google\\nBinary Image Classi...   \n",
       "\n",
       "                                  watch7-user-header  \\\n",
       "0  edureka!\\nCarregando...\\nCancelar inscrição de...   \n",
       "1  Purdue Engineering\\nCarregando...\\nCancelar in...   \n",
       "2  Kaggle\\nCarregando...\\nCancelar inscrição de K...   \n",
       "3  365 Data Science\\nCarregando...\\nCancelar insc...   \n",
       "4  TheClassofAI\\nCarregando...\\nCancelar inscriçã...   \n",
       "\n",
       "                            watch8-sentiment-actions  \\\n",
       "0  33.445 visualizações\\n1.003\\nGostou deste víde...   \n",
       "1  4.640 visualizações\\n98\\nGostou deste vídeo?\\n...   \n",
       "2  1.570 visualizações\\n34\\nGostou deste vídeo?\\n...   \n",
       "3  699.800 visualizações\\n10.749\\nGostou deste ví...   \n",
       "4  300 visualizações\\n9\\nGostou deste vídeo?\\nFaç...   \n",
       "\n",
       "                                            og:image  og:image:width  \\\n",
       "0  https://i.ytimg.com/vi/-6RqxhNO2yY/maxresdefau...            1280   \n",
       "1  https://i.ytimg.com/vi/-8yYFdV5SOc/maxresdefau...            1280   \n",
       "2  https://i.ytimg.com/vi/-9U84J178OQ/maxresdefau...            1280   \n",
       "3  https://i.ytimg.com/vi/-AkBfBWr_Gw/maxresdefau...            1280   \n",
       "4   https://i.ytimg.com/vi/-DDrE6T0ct4/hqdefault.jpg             480   \n",
       "\n",
       "   og:image:height                                     og:description  \\\n",
       "0              720  🔥Edureka Python Certification Training: https:...   \n",
       "1              720  2019 Purdue Engineering Distinguished Lecture ...   \n",
       "2              720  Join Kaggle data scientist Rachael live as she...   \n",
       "3              720  👉 Download Our Free Data Science Career Guide:...   \n",
       "4              360  In this tutorial, we have covered how to train...   \n",
       "\n",
       "   og:video:width  og:video:height         og:video:tag  \\\n",
       "0          1280.0            720.0              edureka   \n",
       "1          1280.0            720.0  electrical engineer   \n",
       "2          1280.0            720.0                   CS   \n",
       "3          1280.0            720.0       data scientist   \n",
       "4          1280.0            720.0  ImageClassification   \n",
       "\n",
       "                      channel_link_0  \n",
       "0  /channel/UCkw4JCwteGrDHIsyIIKo4tQ  \n",
       "1  /channel/UC8FZ6dzFVkCACLH9YoMNFog  \n",
       "2  /channel/UCSNeZleDn9c74yQc-EKnVTA  \n",
       "3  /channel/UCEBpSZhI1X8WaP-kY_2LLcg  \n",
       "4  /channel/UCYlOdJBJQN4c7k25uzwSwJA  "
      ]
     },
     "execution_count": 4,
     "metadata": {},
     "output_type": "execute_result"
    }
   ],
   "source": [
    "df.head()"
   ]
  },
  {
   "cell_type": "code",
   "execution_count": 5,
   "metadata": {},
   "outputs": [],
   "source": [
    "from sklearn.linear_model import LogisticRegression\n",
    "from sklearn.tree import DecisionTreeClassifier\n",
    "from sklearn.model_selection import train_test_split\n"
   ]
  },
  {
   "cell_type": "code",
   "execution_count": 6,
   "metadata": {},
   "outputs": [],
   "source": [
    "df_limpo = pd.DataFrame(index=df.index)"
   ]
  },
  {
   "cell_type": "code",
   "execution_count": 7,
   "metadata": {},
   "outputs": [
    {
     "data": {
      "text/html": [
       "<div>\n",
       "<style scoped>\n",
       "    .dataframe tbody tr th:only-of-type {\n",
       "        vertical-align: middle;\n",
       "    }\n",
       "\n",
       "    .dataframe tbody tr th {\n",
       "        vertical-align: top;\n",
       "    }\n",
       "\n",
       "    .dataframe thead th {\n",
       "        text-align: right;\n",
       "    }\n",
       "</style>\n",
       "<table border=\"1\" class=\"dataframe\">\n",
       "  <thead>\n",
       "    <tr style=\"text-align: right;\">\n",
       "      <th></th>\n",
       "    </tr>\n",
       "  </thead>\n",
       "  <tbody>\n",
       "    <tr>\n",
       "      <th>0</th>\n",
       "    </tr>\n",
       "    <tr>\n",
       "      <th>1</th>\n",
       "    </tr>\n",
       "    <tr>\n",
       "      <th>2</th>\n",
       "    </tr>\n",
       "    <tr>\n",
       "      <th>3</th>\n",
       "    </tr>\n",
       "    <tr>\n",
       "      <th>4</th>\n",
       "    </tr>\n",
       "  </tbody>\n",
       "</table>\n",
       "</div>"
      ],
      "text/plain": [
       "Empty DataFrame\n",
       "Columns: []\n",
       "Index: [0, 1, 2, 3, 4]"
      ]
     },
     "execution_count": 7,
     "metadata": {},
     "output_type": "execute_result"
    }
   ],
   "source": [
    "df_limpo.head()"
   ]
  },
  {
   "cell_type": "markdown",
   "metadata": {},
   "source": [
    "## 1. Data cleaner"
   ]
  },
  {
   "cell_type": "code",
   "execution_count": 8,
   "metadata": {},
   "outputs": [],
   "source": [
    "clean_date = df['watch-time-text'].str.extract(r\"(\\d+) de ([a-z]+)\\. de (\\d+)\")\n",
    "clean_date[0] = clean_date[0].map(lambda x: \"0\"+x[0] if len(x) == 1 else x)\n",
    "#clean_date[1] = clean_date[1].map(lambda x: x[0].upper()+x[1:])\n",
    "\n",
    "mapa_meses = {\"jan\": \"Jan\",\n",
    "              \"fev\": \"Feb\",\n",
    "              \"mar\": \"Mar\", \n",
    "              \"abr\": \"Apr\", \n",
    "              \"mai\": \"May\", \n",
    "              \"jun\": \"Jun\",\n",
    "              \"jul\": \"Jul\",\n",
    "              \"ago\": \"Aug\", \n",
    "              \"set\": \"Sep\", \n",
    "              \"out\": \"Oct\", \n",
    "              \"nov\": \"Nov\",\n",
    "              \"dez\": \"Dec\"}\n",
    "\n",
    "clean_date[1] = clean_date[1].map(mapa_meses)\n",
    "\n",
    "clean_date = clean_date.apply(lambda x: \" \".join(x), axis=1)\n",
    "\n",
    "df_limpo['date'] = pd.to_datetime(clean_date, format=\"%d %b %Y\")"
   ]
  },
  {
   "cell_type": "markdown",
   "metadata": {},
   "source": [
    "## 2.Views cleaner"
   ]
  },
  {
   "cell_type": "code",
   "execution_count": 9,
   "metadata": {},
   "outputs": [],
   "source": [
    "views = df['watch-view-count'].str.extract(r\"(\\d+\\.?\\d*)\", expand=False).str.replace(\".\", \"\").fillna(0).astype(int)\n",
    "df_limpo['views'] = views"
   ]
  },
  {
   "cell_type": "code",
   "execution_count": 10,
   "metadata": {},
   "outputs": [
    {
     "data": {
      "text/html": [
       "<div>\n",
       "<style scoped>\n",
       "    .dataframe tbody tr th:only-of-type {\n",
       "        vertical-align: middle;\n",
       "    }\n",
       "\n",
       "    .dataframe tbody tr th {\n",
       "        vertical-align: top;\n",
       "    }\n",
       "\n",
       "    .dataframe thead th {\n",
       "        text-align: right;\n",
       "    }\n",
       "</style>\n",
       "<table border=\"1\" class=\"dataframe\">\n",
       "  <thead>\n",
       "    <tr style=\"text-align: right;\">\n",
       "      <th></th>\n",
       "      <th>date</th>\n",
       "      <th>views</th>\n",
       "    </tr>\n",
       "  </thead>\n",
       "  <tbody>\n",
       "    <tr>\n",
       "      <th>0</th>\n",
       "      <td>2020-03-15</td>\n",
       "      <td>33445</td>\n",
       "    </tr>\n",
       "    <tr>\n",
       "      <th>1</th>\n",
       "      <td>2019-05-02</td>\n",
       "      <td>4640</td>\n",
       "    </tr>\n",
       "    <tr>\n",
       "      <th>2</th>\n",
       "      <td>2018-11-30</td>\n",
       "      <td>1570</td>\n",
       "    </tr>\n",
       "    <tr>\n",
       "      <th>3</th>\n",
       "      <td>2018-08-14</td>\n",
       "      <td>699800</td>\n",
       "    </tr>\n",
       "    <tr>\n",
       "      <th>4</th>\n",
       "      <td>2020-03-23</td>\n",
       "      <td>300</td>\n",
       "    </tr>\n",
       "  </tbody>\n",
       "</table>\n",
       "</div>"
      ],
      "text/plain": [
       "        date   views\n",
       "0 2020-03-15   33445\n",
       "1 2019-05-02    4640\n",
       "2 2018-11-30    1570\n",
       "3 2018-08-14  699800\n",
       "4 2020-03-23     300"
      ]
     },
     "execution_count": 10,
     "metadata": {},
     "output_type": "execute_result"
    }
   ],
   "source": [
    "df_limpo.head()"
   ]
  },
  {
   "cell_type": "markdown",
   "metadata": {},
   "source": [
    "## 3.Features"
   ]
  },
  {
   "cell_type": "code",
   "execution_count": 11,
   "metadata": {},
   "outputs": [],
   "source": [
    "features = pd.DataFrame(index=df_limpo.index)\n",
    "y = df['y'].copy()"
   ]
  },
  {
   "cell_type": "code",
   "execution_count": 12,
   "metadata": {},
   "outputs": [],
   "source": [
    "features['publish_time'] = (pd.to_datetime('2020-06-01') - df_limpo['date']) / np.timedelta64(1,'D')\n",
    "features['publish_time'] = features['publish_time'].replace(0,1)\n",
    "features['views'] = df_limpo['views']\n",
    "features['day_views'] = features['views'] / features['publish_time']\n",
    "features = features.drop(['publish_time'], axis=1)"
   ]
  },
  {
   "cell_type": "code",
   "execution_count": 13,
   "metadata": {},
   "outputs": [
    {
     "data": {
      "text/plain": [
       "<matplotlib.axes._subplots.AxesSubplot at 0x7f4cb611f2d0>"
      ]
     },
     "execution_count": 13,
     "metadata": {},
     "output_type": "execute_result"
    },
    {
     "data": {
      "image/png": "[encoded data removed]",
      "text/plain": [
       "<Figure size 1440x720 with 1 Axes>"
      ]
     },
     "metadata": {
      "needs_background": "light"
     },
     "output_type": "display_data"
    }
   ],
   "source": [
    "df_limpo['date'].value_counts().plot(figsize=(20,10))"
   ]
  },
  {
   "cell_type": "code",
   "execution_count": 14,
   "metadata": {},
   "outputs": [
    {
     "data": {
      "text/plain": [
       "((237, 2), (236, 2), (237,), (236,))"
      ]
     },
     "execution_count": 14,
     "metadata": {},
     "output_type": "execute_result"
    }
   ],
   "source": [
    "Xtrain, Xval = features[df_limpo['date']<'2019-09-01'], features[df_limpo['date']>='2019-09-01']\n",
    "ytrain, yval = y[df_limpo['date']<'2019-09-01'],y[df_limpo['date']>='2019-09-01'],\n",
    "Xtrain.shape, Xval.shape, ytrain.shape, yval.shape"
   ]
  },
  {
   "cell_type": "code",
   "execution_count": 15,
   "metadata": {},
   "outputs": [
    {
     "data": {
      "text/plain": [
       "DecisionTreeClassifier(ccp_alpha=0.0, class_weight='balanced', criterion='gini',\n",
       "                       max_depth=2, max_features=None, max_leaf_nodes=None,\n",
       "                       min_impurity_decrease=0.0, min_impurity_split=None,\n",
       "                       min_samples_leaf=1, min_samples_split=2,\n",
       "                       min_weight_fraction_leaf=0.0, presort='deprecated',\n",
       "                       random_state=0, splitter='best')"
      ]
     },
     "execution_count": 15,
     "metadata": {},
     "output_type": "execute_result"
    }
   ],
   "source": [
    "mdl = DecisionTreeClassifier(random_state=0, max_depth=2, class_weight=\"balanced\")\n",
    "mdl.fit(Xtrain, ytrain)"
   ]
  },
  {
   "cell_type": "code",
   "execution_count": 16,
   "metadata": {},
   "outputs": [
    {
     "data": {
      "text/plain": [
       "0.1694915254237288"
      ]
     },
     "execution_count": 16,
     "metadata": {},
     "output_type": "execute_result"
    }
   ],
   "source": [
    "yval.mean()"
   ]
  },
  {
   "cell_type": "code",
   "execution_count": 17,
   "metadata": {},
   "outputs": [],
   "source": [
    "p = mdl.predict_proba(Xval)[:, 1]"
   ]
  },
  {
   "cell_type": "code",
   "execution_count": 18,
   "metadata": {},
   "outputs": [],
   "source": [
    "from sklearn.metrics import roc_auc_score, average_precision_score"
   ]
  },
  {
   "cell_type": "code",
   "execution_count": 19,
   "metadata": {},
   "outputs": [
    {
     "data": {
      "text/plain": [
       "0.1724137931034483"
      ]
     },
     "execution_count": 19,
     "metadata": {},
     "output_type": "execute_result"
    }
   ],
   "source": [
    "average_precision_score(yval,p)"
   ]
  },
  {
   "cell_type": "code",
   "execution_count": 20,
   "metadata": {},
   "outputs": [
    {
     "data": {
      "text/plain": [
       "0.5"
      ]
     },
     "execution_count": 20,
     "metadata": {},
     "output_type": "execute_result"
    }
   ],
   "source": [
    "roc_auc_score(yval,p)"
   ]
  },
  {
   "cell_type": "code",
   "execution_count": 21,
   "metadata": {},
   "outputs": [],
   "source": [
    "from sklearn.tree import plot_tree"
   ]
  },
  {
   "cell_type": "code",
   "execution_count": 22,
   "metadata": {},
   "outputs": [
    {
     "name": "stdout",
     "output_type": "stream",
     "text": [
      "Populating the interactive namespace from numpy and matplotlib\n"
     ]
    }
   ],
   "source": [
    "%matplotlib inline\n",
    "%pylab inline"
   ]
  },
  {
   "cell_type": "code",
   "execution_count": 23,
   "metadata": {},
   "outputs": [
    {
     "data": {
      "text/plain": [
       "[Text(334.79999999999995, 453.0, 'views <= 366045.0\\ngini = 0.5\\nsamples = 237\\nvalue = [118.5, 118.5]'),\n",
       " Text(223.2, 271.8, 'views <= 137235.5\\ngini = 0.499\\nsamples = 224\\nvalue = [109.894, 118.5]'),\n",
       " Text(111.6, 90.59999999999997, 'gini = 0.499\\nsamples = 202\\nvalue = [103.274, 93.983]'),\n",
       " Text(334.79999999999995, 90.59999999999997, 'gini = 0.335\\nsamples = 22\\nvalue = [6.62, 24.517]'),\n",
       " Text(446.4, 271.8, 'gini = 0.0\\nsamples = 13\\nvalue = [8.606, 0.0]')]"
      ]
     },
     "execution_count": 23,
     "metadata": {},
     "output_type": "execute_result"
    },
    {
     "data": {
      "image/png": "[encoded data removed]",
      "text/plain": [
       "<Figure size 720x720 with 1 Axes>"
      ]
     },
     "metadata": {
      "needs_background": "light"
     },
     "output_type": "display_data"
    }
   ],
   "source": [
    "fig, ax = pylab.subplots(1,1, figsize=(10,10))\n",
    "plot_tree(mdl, ax=ax, feature_names=Xtrain.columns)"
   ]
  }
 ],
 "metadata": {
  "kernelspec": {
   "display_name": "Python 3",
   "language": "python",
   "name": "python3"
  },
  "language_info": {
   "codemirror_mode": {
    "name": "ipython",
    "version": 3
   },
   "file_extension": ".py",
   "mimetype": "text/x-python",
   "name": "python",
   "nbconvert_exporter": "python",
   "pygments_lexer": "ipython3",
   "version": "3.7.6"
  }
 },
 "nbformat": 4,
 "nbformat_minor": 4
}

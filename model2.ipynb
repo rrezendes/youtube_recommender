{
 "cells": [
  {
   "cell_type": "code",
   "execution_count": 1,
   "metadata": {},
   "outputs": [
    {
     "name": "stdout",
     "output_type": "stream",
     "text": [
      "Populating the interactive namespace from numpy and matplotlib\n"
     ]
    }
   ],
   "source": [
    "import pandas as pd\n",
    "import numpy as np\n",
    "import re\n",
    "import time\n",
    "\n",
    "import bs4\n",
    "import json\n",
    "\n",
    "import glob\n",
    "import tqdm\n",
    "\n",
    "pd.set_option(\"max.columns\",131)\n",
    "\n",
    "%matplotlib inline\n",
    "%pylab inline"
   ]
  },
  {
   "cell_type": "code",
   "execution_count": 2,
   "metadata": {},
   "outputs": [
    {
     "data": {
      "text/plain": [
       "(501, 16)"
      ]
     },
     "execution_count": 2,
     "metadata": {},
     "output_type": "execute_result"
    }
   ],
   "source": [
    "df = pd.read_csv(\"raw_data_with_labels.csv\", index_col=0)\n",
    "df = df[df['y'].notnull()]\n",
    "df.shape"
   ]
  },
  {
   "cell_type": "code",
   "execution_count": 3,
   "metadata": {},
   "outputs": [
    {
     "data": {
      "text/plain": [
       "(473, 16)"
      ]
     },
     "execution_count": 3,
     "metadata": {},
     "output_type": "execute_result"
    }
   ],
   "source": [
    "df = df[df['watch-time-text'].notnull()]\n",
    "df = df[df['watch-time-text'].str.contains('horas')==False]\n",
    "df.shape"
   ]
  },
  {
   "cell_type": "code",
   "execution_count": 4,
   "metadata": {},
   "outputs": [],
   "source": [
    "from sklearn.linear_model import LogisticRegression\n",
    "from sklearn.ensemble import RandomForestClassifier"
   ]
  },
  {
   "cell_type": "code",
   "execution_count": 5,
   "metadata": {},
   "outputs": [],
   "source": [
    "df_limpo = pd.DataFrame(index=df.index)\n",
    "df_limpo['title'] = df['watch-title']"
   ]
  },
  {
   "cell_type": "markdown",
   "metadata": {},
   "source": [
    "## 1. Data Cleaner"
   ]
  },
  {
   "cell_type": "code",
   "execution_count": 6,
   "metadata": {},
   "outputs": [],
   "source": [
    "clean_date = df['watch-time-text'].str.extract(r\"(\\d+) de ([a-z]+)\\. de (\\d+)\")\n",
    "clean_date[0] = clean_date[0].map(lambda x: \"0\"+x[0] if len(x) == 1 else x)\n",
    "#clean_date[1] = clean_date[1].map(lambda x: x[0].upper()+x[1:])\n",
    "\n",
    "mapa_meses = {\"jan\": \"Jan\",\n",
    "              \"fev\": \"Feb\",\n",
    "              \"mar\": \"Mar\", \n",
    "              \"abr\": \"Apr\", \n",
    "              \"mai\": \"May\", \n",
    "              \"jun\": \"Jun\",\n",
    "              \"jul\": \"Jul\",\n",
    "              \"ago\": \"Aug\", \n",
    "              \"set\": \"Sep\", \n",
    "              \"out\": \"Oct\", \n",
    "              \"nov\": \"Nov\",\n",
    "              \"dez\": \"Dec\"}\n",
    "\n",
    "clean_date[1] = clean_date[1].map(mapa_meses)\n",
    "\n",
    "clean_date = clean_date.apply(lambda x: \" \".join(x), axis=1)\n",
    "clean_date.head()\n",
    "df_limpo['date'] = pd.to_datetime(clean_date, format=\"%d %b %Y\")"
   ]
  },
  {
   "cell_type": "markdown",
   "metadata": {},
   "source": [
    "## 2.Views cleaner"
   ]
  },
  {
   "cell_type": "code",
   "execution_count": 7,
   "metadata": {},
   "outputs": [],
   "source": [
    "views = df['watch-view-count'].str.extract(r\"(\\d+\\.?\\d*)\", expand=False).str.replace(\".\", \"\").fillna(0).astype(int)\n",
    "df_limpo['views'] = views"
   ]
  },
  {
   "cell_type": "markdown",
   "metadata": {},
   "source": [
    "## 3.Features"
   ]
  },
  {
   "cell_type": "code",
   "execution_count": 8,
   "metadata": {},
   "outputs": [],
   "source": [
    "features = pd.DataFrame(index=df_limpo.index)\n",
    "y = df['y'].copy()"
   ]
  },
  {
   "cell_type": "code",
   "execution_count": 9,
   "metadata": {},
   "outputs": [],
   "source": [
    "features['publish_time'] = (pd.to_datetime('2020-06-01') - df_limpo['date']) / np.timedelta64(1,'D')\n",
    "features['publish_time'] = features['publish_time'].replace(0,1)\n",
    "features['views'] = df_limpo['views']\n",
    "features['day_views'] = features['views'] / features['publish_time']\n",
    "features = features.drop(['publish_time'], axis=1)"
   ]
  },
  {
   "cell_type": "code",
   "execution_count": 10,
   "metadata": {},
   "outputs": [
    {
     "data": {
      "text/plain": [
       "((237, 2), (236, 2), (237,), (236,))"
      ]
     },
     "execution_count": 10,
     "metadata": {},
     "output_type": "execute_result"
    }
   ],
   "source": [
    "mask_train = df_limpo['date'] < \"2019-09-01\"\n",
    "mask_val = df_limpo['date'] >= \"2019-09-01\"\n",
    "\n",
    "Xtrain, Xval = features[mask_train], features[mask_val]\n",
    "ytrain, yval = y[mask_train], y[mask_val]\n",
    "Xtrain.shape, Xval.shape, ytrain.shape, yval.shape"
   ]
  },
  {
   "cell_type": "code",
   "execution_count": 11,
   "metadata": {},
   "outputs": [
    {
     "name": "stdout",
     "output_type": "stream",
     "text": [
      "<class 'pandas.core.frame.DataFrame'>\n",
      "Int64Index: 473 entries, 0 to 500\n",
      "Data columns (total 3 columns):\n",
      " #   Column  Non-Null Count  Dtype         \n",
      "---  ------  --------------  -----         \n",
      " 0   title   473 non-null    object        \n",
      " 1   date    473 non-null    datetime64[ns]\n",
      " 2   views   473 non-null    int64         \n",
      "dtypes: datetime64[ns](1), int64(1), object(1)\n",
      "memory usage: 14.8+ KB\n"
     ]
    }
   ],
   "source": [
    "df_limpo.info()"
   ]
  },
  {
   "cell_type": "code",
   "execution_count": 12,
   "metadata": {},
   "outputs": [],
   "source": [
    "from sklearn.feature_extraction.text import TfidfVectorizer\n",
    "\n",
    "title_train = df_limpo[mask_train]['title']\n",
    "title_val = df_limpo[mask_val]['title']\n",
    "\n",
    "title_vec = TfidfVectorizer(min_df=2)\n",
    "title_bow_train = title_vec.fit_transform(title_train)\n",
    "title_bow_val = title_vec.transform(title_val)\n"
   ]
  },
  {
   "cell_type": "code",
   "execution_count": 13,
   "metadata": {},
   "outputs": [
    {
     "data": {
      "text/plain": [
       "(237, 194)"
      ]
     },
     "execution_count": 13,
     "metadata": {},
     "output_type": "execute_result"
    }
   ],
   "source": [
    "title_bow_train.shape"
   ]
  },
  {
   "cell_type": "code",
   "execution_count": 14,
   "metadata": {},
   "outputs": [
    {
     "data": {
      "text/plain": [
       "<237x194 sparse matrix of type '<class 'numpy.float64'>'\n",
       "\twith 1418 stored elements in Compressed Sparse Row format>"
      ]
     },
     "execution_count": 14,
     "metadata": {},
     "output_type": "execute_result"
    }
   ],
   "source": [
    "title_bow_train"
   ]
  },
  {
   "cell_type": "code",
   "execution_count": 15,
   "metadata": {},
   "outputs": [],
   "source": [
    "from scipy.sparse import hstack, vstack\n",
    "\n",
    "Xtrain_wtitle = hstack([Xtrain, title_bow_train])\n",
    "Xval_wtitle = hstack([Xval, title_bow_val])"
   ]
  },
  {
   "cell_type": "code",
   "execution_count": 16,
   "metadata": {},
   "outputs": [
    {
     "data": {
      "text/plain": [
       "((237, 196), (236, 196))"
      ]
     },
     "execution_count": 16,
     "metadata": {},
     "output_type": "execute_result"
    }
   ],
   "source": [
    "Xtrain_wtitle.shape, Xval_wtitle.shape"
   ]
  },
  {
   "cell_type": "code",
   "execution_count": 17,
   "metadata": {},
   "outputs": [
    {
     "data": {
      "text/plain": [
       "RandomForestClassifier(bootstrap=True, ccp_alpha=0.0, class_weight='balanced',\n",
       "                       criterion='gini', max_depth=None, max_features='auto',\n",
       "                       max_leaf_nodes=None, max_samples=None,\n",
       "                       min_impurity_decrease=0.0, min_impurity_split=None,\n",
       "                       min_samples_leaf=1, min_samples_split=2,\n",
       "                       min_weight_fraction_leaf=0.0, n_estimators=1000,\n",
       "                       n_jobs=5, oob_score=False, random_state=0, verbose=0,\n",
       "                       warm_start=False)"
      ]
     },
     "execution_count": 17,
     "metadata": {},
     "output_type": "execute_result"
    }
   ],
   "source": [
    "mdl = RandomForestClassifier(n_estimators=1000, random_state=0, class_weight=\"balanced\", n_jobs=5)\n",
    "mdl.fit(Xtrain_wtitle, ytrain)"
   ]
  },
  {
   "cell_type": "code",
   "execution_count": 18,
   "metadata": {},
   "outputs": [],
   "source": [
    "p = mdl.predict_proba(Xval_wtitle)[:, 1]"
   ]
  },
  {
   "cell_type": "code",
   "execution_count": 19,
   "metadata": {},
   "outputs": [],
   "source": [
    "from sklearn.metrics import roc_auc_score, average_precision_score"
   ]
  },
  {
   "cell_type": "code",
   "execution_count": 20,
   "metadata": {},
   "outputs": [
    {
     "data": {
      "text/plain": [
       "0.19554074062718557"
      ]
     },
     "execution_count": 20,
     "metadata": {},
     "output_type": "execute_result"
    }
   ],
   "source": [
    "average_precision_score(yval, p)"
   ]
  },
  {
   "cell_type": "code",
   "execution_count": 21,
   "metadata": {},
   "outputs": [
    {
     "data": {
      "text/plain": [
       "0.5232142857142857"
      ]
     },
     "execution_count": 21,
     "metadata": {},
     "output_type": "execute_result"
    }
   ],
   "source": [
    "roc_auc_score(yval, p)"
   ]
  },
  {
   "cell_type": "markdown",
   "metadata": {},
   "source": [
    "## 4.Active Learning"
   ]
  },
  {
   "cell_type": "markdown",
   "metadata": {},
   "source": [
    "70 exemplos que o modelo tenha dificuldade\n",
    "\n",
    "30 exemplos aleatoriamente"
   ]
  },
  {
   "cell_type": "code",
   "execution_count": 22,
   "metadata": {},
   "outputs": [
    {
     "data": {
      "text/plain": [
       "(857, 16)"
      ]
     },
     "execution_count": 22,
     "metadata": {},
     "output_type": "execute_result"
    }
   ],
   "source": [
    "df_unlabeled = pd.read_csv(\"raw_data_with_labels.csv\", index_col=0)\n",
    "df_unlabeled = df_unlabeled[df_unlabeled['y'].isnull()].dropna(how='all')\n",
    "df_unlabeled.shape"
   ]
  },
  {
   "cell_type": "code",
   "execution_count": 23,
   "metadata": {},
   "outputs": [
    {
     "data": {
      "text/plain": [
       "(801, 16)"
      ]
     },
     "execution_count": 23,
     "metadata": {},
     "output_type": "execute_result"
    }
   ],
   "source": [
    "df_unlabeled = df_unlabeled[df_unlabeled['watch-time-text'].notnull()]\n",
    "df_unlabeled = df_unlabeled[df_unlabeled['watch-time-text'].str.contains('horas')==False]\n",
    "df_unlabeled.shape"
   ]
  },
  {
   "cell_type": "code",
   "execution_count": 24,
   "metadata": {},
   "outputs": [
    {
     "data": {
      "text/html": [
       "<div>\n",
       "<style scoped>\n",
       "    .dataframe tbody tr th:only-of-type {\n",
       "        vertical-align: middle;\n",
       "    }\n",
       "\n",
       "    .dataframe tbody tr th {\n",
       "        vertical-align: top;\n",
       "    }\n",
       "\n",
       "    .dataframe thead th {\n",
       "        text-align: right;\n",
       "    }\n",
       "</style>\n",
       "<table border=\"1\" class=\"dataframe\">\n",
       "  <thead>\n",
       "    <tr style=\"text-align: right;\">\n",
       "      <th></th>\n",
       "      <th>watch-title</th>\n",
       "      <th>y</th>\n",
       "      <th>watch-view-count</th>\n",
       "      <th>watch-time-text</th>\n",
       "      <th>content_watch-info-tag-list</th>\n",
       "      <th>watch7-headline</th>\n",
       "      <th>watch7-user-header</th>\n",
       "      <th>watch8-sentiment-actions</th>\n",
       "      <th>og:image</th>\n",
       "      <th>og:image:width</th>\n",
       "      <th>og:image:height</th>\n",
       "      <th>og:description</th>\n",
       "      <th>og:video:width</th>\n",
       "      <th>og:video:height</th>\n",
       "      <th>og:video:tag</th>\n",
       "      <th>channel_link_0</th>\n",
       "    </tr>\n",
       "  </thead>\n",
       "  <tbody>\n",
       "    <tr>\n",
       "      <th>501</th>\n",
       "      <td>Why I left my Data Science Job at FANG (Facebo...</td>\n",
       "      <td>NaN</td>\n",
       "      <td>686.902 visualizações</td>\n",
       "      <td>Publicado em 11 de abr. de 2019</td>\n",
       "      <td>Pessoas e blogs</td>\n",
       "      <td>Why I left my Data Science Job at FANG (Facebo...</td>\n",
       "      <td>Joma Tech\\nCarregando...\\nCancelar inscrição d...</td>\n",
       "      <td>686.902 visualizações\\n13.710\\nGostou deste ví...</td>\n",
       "      <td>https://i.ytimg.com/vi/M5v1nXiUaOI/maxresdefau...</td>\n",
       "      <td>1280</td>\n",
       "      <td>720</td>\n",
       "      <td>► Check out CoderPro for 100+ Video Explanatio...</td>\n",
       "      <td>1280.0</td>\n",
       "      <td>720.0</td>\n",
       "      <td>data scientist</td>\n",
       "      <td>/channel/UCV0qA-eDDICsRR9rPcnG7tw</td>\n",
       "    </tr>\n",
       "  </tbody>\n",
       "</table>\n",
       "</div>"
      ],
      "text/plain": [
       "                                           watch-title   y  \\\n",
       "501  Why I left my Data Science Job at FANG (Facebo... NaN   \n",
       "\n",
       "          watch-view-count                  watch-time-text  \\\n",
       "501  686.902 visualizações  Publicado em 11 de abr. de 2019   \n",
       "\n",
       "    content_watch-info-tag-list  \\\n",
       "501             Pessoas e blogs   \n",
       "\n",
       "                                       watch7-headline  \\\n",
       "501  Why I left my Data Science Job at FANG (Facebo...   \n",
       "\n",
       "                                    watch7-user-header  \\\n",
       "501  Joma Tech\\nCarregando...\\nCancelar inscrição d...   \n",
       "\n",
       "                              watch8-sentiment-actions  \\\n",
       "501  686.902 visualizações\\n13.710\\nGostou deste ví...   \n",
       "\n",
       "                                              og:image  og:image:width  \\\n",
       "501  https://i.ytimg.com/vi/M5v1nXiUaOI/maxresdefau...            1280   \n",
       "\n",
       "     og:image:height                                     og:description  \\\n",
       "501              720  ► Check out CoderPro for 100+ Video Explanatio...   \n",
       "\n",
       "     og:video:width  og:video:height    og:video:tag  \\\n",
       "501          1280.0            720.0  data scientist   \n",
       "\n",
       "                        channel_link_0  \n",
       "501  /channel/UCV0qA-eDDICsRR9rPcnG7tw  "
      ]
     },
     "execution_count": 24,
     "metadata": {},
     "output_type": "execute_result"
    }
   ],
   "source": [
    "df_unlabeled.head(1)"
   ]
  },
  {
   "cell_type": "code",
   "execution_count": 25,
   "metadata": {},
   "outputs": [],
   "source": [
    "df_limpo_u = pd.DataFrame(index=df_unlabeled.index)\n",
    "df_limpo_u['title'] = df_unlabeled['watch-title']"
   ]
  },
  {
   "cell_type": "code",
   "execution_count": 26,
   "metadata": {},
   "outputs": [],
   "source": [
    "clean_date = df_unlabeled['watch-time-text'].str.extract(r\"(\\d+) de ([a-z]+)\\. de (\\d+)\")\n",
    "clean_date[0] = clean_date[0].map(lambda x: \"0\"+x[0] if len(x) == 1 else x)\n",
    "#clean_date[1] = clean_date[1].map(lambda x: x[0].upper()+x[1:])\n",
    "\n",
    "mapa_meses = {\"jan\": \"Jan\",\n",
    "              \"fev\": \"Feb\",\n",
    "              \"mar\": \"Mar\", \n",
    "              \"abr\": \"Apr\", \n",
    "              \"mai\": \"May\", \n",
    "              \"jun\": \"Jun\",\n",
    "              \"jul\": \"Jul\",\n",
    "              \"ago\": \"Aug\", \n",
    "              \"set\": \"Sep\", \n",
    "              \"out\": \"Oct\", \n",
    "              \"nov\": \"Nov\",\n",
    "              \"dez\": \"Dec\"}\n",
    "\n",
    "clean_date[1] = clean_date[1].map(mapa_meses)\n",
    "\n",
    "clean_date = clean_date.apply(lambda x: \" \".join(x), axis=1)\n",
    "clean_date.head()\n",
    "df_limpo_u['date'] = pd.to_datetime(clean_date, format=\"%d %b %Y\")"
   ]
  },
  {
   "cell_type": "code",
   "execution_count": 27,
   "metadata": {},
   "outputs": [
    {
     "data": {
      "text/html": [
       "<div>\n",
       "<style scoped>\n",
       "    .dataframe tbody tr th:only-of-type {\n",
       "        vertical-align: middle;\n",
       "    }\n",
       "\n",
       "    .dataframe tbody tr th {\n",
       "        vertical-align: top;\n",
       "    }\n",
       "\n",
       "    .dataframe thead th {\n",
       "        text-align: right;\n",
       "    }\n",
       "</style>\n",
       "<table border=\"1\" class=\"dataframe\">\n",
       "  <thead>\n",
       "    <tr style=\"text-align: right;\">\n",
       "      <th></th>\n",
       "      <th>title</th>\n",
       "      <th>date</th>\n",
       "    </tr>\n",
       "  </thead>\n",
       "  <tbody>\n",
       "    <tr>\n",
       "      <th>501</th>\n",
       "      <td>Why I left my Data Science Job at FANG (Facebo...</td>\n",
       "      <td>2019-04-11</td>\n",
       "    </tr>\n",
       "    <tr>\n",
       "      <th>502</th>\n",
       "      <td>Real-World Python Machine Learning Tutorial w/...</td>\n",
       "      <td>2019-09-30</td>\n",
       "    </tr>\n",
       "    <tr>\n",
       "      <th>504</th>\n",
       "      <td>Self-Studying Machine Learning? Remind yoursel...</td>\n",
       "      <td>2019-03-02</td>\n",
       "    </tr>\n",
       "    <tr>\n",
       "      <th>505</th>\n",
       "      <td>Best Online Data Science Courses</td>\n",
       "      <td>2018-12-13</td>\n",
       "    </tr>\n",
       "    <tr>\n",
       "      <th>506</th>\n",
       "      <td>Papo de Negócios: É real o valor de Data Scien...</td>\n",
       "      <td>2020-05-27</td>\n",
       "    </tr>\n",
       "  </tbody>\n",
       "</table>\n",
       "</div>"
      ],
      "text/plain": [
       "                                                 title       date\n",
       "501  Why I left my Data Science Job at FANG (Facebo... 2019-04-11\n",
       "502  Real-World Python Machine Learning Tutorial w/... 2019-09-30\n",
       "504  Self-Studying Machine Learning? Remind yoursel... 2019-03-02\n",
       "505                   Best Online Data Science Courses 2018-12-13\n",
       "506  Papo de Negócios: É real o valor de Data Scien... 2020-05-27"
      ]
     },
     "execution_count": 27,
     "metadata": {},
     "output_type": "execute_result"
    }
   ],
   "source": [
    "df_limpo_u.head()"
   ]
  },
  {
   "cell_type": "code",
   "execution_count": 28,
   "metadata": {},
   "outputs": [],
   "source": [
    "views = df_unlabeled['watch-view-count'].str.extract(r\"(\\d+\\.?\\d*)\", expand=False).str.replace(\".\", \"\").fillna(0).astype(int)\n",
    "df_limpo_u['views'] = views"
   ]
  },
  {
   "cell_type": "code",
   "execution_count": 29,
   "metadata": {},
   "outputs": [],
   "source": [
    "features_u = pd.DataFrame(index=df_limpo_u.index)"
   ]
  },
  {
   "cell_type": "code",
   "execution_count": 30,
   "metadata": {},
   "outputs": [],
   "source": [
    "features_u['publish_time'] = (pd.to_datetime('2020-06-01') - df_limpo_u['date']) / np.timedelta64(1,'D')\n",
    "features_u['publish_time'] = features_u['publish_time'].replace(0,1)\n",
    "features_u['views'] = df_limpo_u['views']\n",
    "features_u['day_views'] = features_u['views'] / features_u['publish_time']\n",
    "features_u = features_u.drop(['publish_time'], axis=1)"
   ]
  },
  {
   "cell_type": "code",
   "execution_count": 31,
   "metadata": {},
   "outputs": [
    {
     "data": {
      "text/html": [
       "<div>\n",
       "<style scoped>\n",
       "    .dataframe tbody tr th:only-of-type {\n",
       "        vertical-align: middle;\n",
       "    }\n",
       "\n",
       "    .dataframe tbody tr th {\n",
       "        vertical-align: top;\n",
       "    }\n",
       "\n",
       "    .dataframe thead th {\n",
       "        text-align: right;\n",
       "    }\n",
       "</style>\n",
       "<table border=\"1\" class=\"dataframe\">\n",
       "  <thead>\n",
       "    <tr style=\"text-align: right;\">\n",
       "      <th></th>\n",
       "      <th>views</th>\n",
       "      <th>day_views</th>\n",
       "    </tr>\n",
       "  </thead>\n",
       "  <tbody>\n",
       "    <tr>\n",
       "      <th>501</th>\n",
       "      <td>686902</td>\n",
       "      <td>1647.247002</td>\n",
       "    </tr>\n",
       "    <tr>\n",
       "      <th>502</th>\n",
       "      <td>35785</td>\n",
       "      <td>146.061224</td>\n",
       "    </tr>\n",
       "    <tr>\n",
       "      <th>504</th>\n",
       "      <td>30973</td>\n",
       "      <td>67.774617</td>\n",
       "    </tr>\n",
       "    <tr>\n",
       "      <th>505</th>\n",
       "      <td>196112</td>\n",
       "      <td>365.880597</td>\n",
       "    </tr>\n",
       "    <tr>\n",
       "      <th>506</th>\n",
       "      <td>62</td>\n",
       "      <td>12.400000</td>\n",
       "    </tr>\n",
       "  </tbody>\n",
       "</table>\n",
       "</div>"
      ],
      "text/plain": [
       "      views    day_views\n",
       "501  686902  1647.247002\n",
       "502   35785   146.061224\n",
       "504   30973    67.774617\n",
       "505  196112   365.880597\n",
       "506      62    12.400000"
      ]
     },
     "execution_count": 31,
     "metadata": {},
     "output_type": "execute_result"
    }
   ],
   "source": [
    "features_u.head()"
   ]
  },
  {
   "cell_type": "code",
   "execution_count": 32,
   "metadata": {},
   "outputs": [],
   "source": [
    "from sklearn.feature_extraction.text import TfidfVectorizer\n",
    "\n",
    "title_u = df_limpo_u['title']\n",
    "title_bow_u = title_vec.transform(title_u)\n"
   ]
  },
  {
   "cell_type": "code",
   "execution_count": 33,
   "metadata": {},
   "outputs": [
    {
     "data": {
      "text/plain": [
       "<801x194 sparse matrix of type '<class 'numpy.float64'>'\n",
       "\twith 3882 stored elements in Compressed Sparse Row format>"
      ]
     },
     "execution_count": 33,
     "metadata": {},
     "output_type": "execute_result"
    }
   ],
   "source": [
    "title_bow_u"
   ]
  },
  {
   "cell_type": "code",
   "execution_count": 34,
   "metadata": {},
   "outputs": [],
   "source": [
    "Xu_wtitle = hstack([features_u, title_bow_u])"
   ]
  },
  {
   "cell_type": "code",
   "execution_count": 35,
   "metadata": {},
   "outputs": [
    {
     "data": {
      "text/plain": [
       "<801x196 sparse matrix of type '<class 'numpy.float64'>'\n",
       "\twith 5472 stored elements in COOrdinate format>"
      ]
     },
     "execution_count": 35,
     "metadata": {},
     "output_type": "execute_result"
    }
   ],
   "source": [
    "Xu_wtitle"
   ]
  },
  {
   "cell_type": "code",
   "execution_count": 36,
   "metadata": {},
   "outputs": [],
   "source": [
    "pu = mdl.predict_proba(Xu_wtitle)[:, 1]"
   ]
  },
  {
   "cell_type": "code",
   "execution_count": 37,
   "metadata": {},
   "outputs": [],
   "source": [
    "df_unlabeled['p'] = pu"
   ]
  },
  {
   "cell_type": "code",
   "execution_count": 38,
   "metadata": {},
   "outputs": [
    {
     "data": {
      "text/html": [
       "<div>\n",
       "<style scoped>\n",
       "    .dataframe tbody tr th:only-of-type {\n",
       "        vertical-align: middle;\n",
       "    }\n",
       "\n",
       "    .dataframe tbody tr th {\n",
       "        vertical-align: top;\n",
       "    }\n",
       "\n",
       "    .dataframe thead th {\n",
       "        text-align: right;\n",
       "    }\n",
       "</style>\n",
       "<table border=\"1\" class=\"dataframe\">\n",
       "  <thead>\n",
       "    <tr style=\"text-align: right;\">\n",
       "      <th></th>\n",
       "      <th>watch-title</th>\n",
       "      <th>y</th>\n",
       "      <th>watch-view-count</th>\n",
       "      <th>watch-time-text</th>\n",
       "      <th>content_watch-info-tag-list</th>\n",
       "      <th>watch7-headline</th>\n",
       "      <th>watch7-user-header</th>\n",
       "      <th>watch8-sentiment-actions</th>\n",
       "      <th>og:image</th>\n",
       "      <th>og:image:width</th>\n",
       "      <th>og:image:height</th>\n",
       "      <th>og:description</th>\n",
       "      <th>og:video:width</th>\n",
       "      <th>og:video:height</th>\n",
       "      <th>og:video:tag</th>\n",
       "      <th>channel_link_0</th>\n",
       "      <th>p</th>\n",
       "    </tr>\n",
       "  </thead>\n",
       "  <tbody>\n",
       "    <tr>\n",
       "      <th>501</th>\n",
       "      <td>Why I left my Data Science Job at FANG (Facebo...</td>\n",
       "      <td>NaN</td>\n",
       "      <td>686.902 visualizações</td>\n",
       "      <td>Publicado em 11 de abr. de 2019</td>\n",
       "      <td>Pessoas e blogs</td>\n",
       "      <td>Why I left my Data Science Job at FANG (Facebo...</td>\n",
       "      <td>Joma Tech\\nCarregando...\\nCancelar inscrição d...</td>\n",
       "      <td>686.902 visualizações\\n13.710\\nGostou deste ví...</td>\n",
       "      <td>https://i.ytimg.com/vi/M5v1nXiUaOI/maxresdefau...</td>\n",
       "      <td>1280</td>\n",
       "      <td>720</td>\n",
       "      <td>► Check out CoderPro for 100+ Video Explanatio...</td>\n",
       "      <td>1280.0</td>\n",
       "      <td>720.0</td>\n",
       "      <td>data scientist</td>\n",
       "      <td>/channel/UCV0qA-eDDICsRR9rPcnG7tw</td>\n",
       "      <td>0.134</td>\n",
       "    </tr>\n",
       "  </tbody>\n",
       "</table>\n",
       "</div>"
      ],
      "text/plain": [
       "                                           watch-title   y  \\\n",
       "501  Why I left my Data Science Job at FANG (Facebo... NaN   \n",
       "\n",
       "          watch-view-count                  watch-time-text  \\\n",
       "501  686.902 visualizações  Publicado em 11 de abr. de 2019   \n",
       "\n",
       "    content_watch-info-tag-list  \\\n",
       "501             Pessoas e blogs   \n",
       "\n",
       "                                       watch7-headline  \\\n",
       "501  Why I left my Data Science Job at FANG (Facebo...   \n",
       "\n",
       "                                    watch7-user-header  \\\n",
       "501  Joma Tech\\nCarregando...\\nCancelar inscrição d...   \n",
       "\n",
       "                              watch8-sentiment-actions  \\\n",
       "501  686.902 visualizações\\n13.710\\nGostou deste ví...   \n",
       "\n",
       "                                              og:image  og:image:width  \\\n",
       "501  https://i.ytimg.com/vi/M5v1nXiUaOI/maxresdefau...            1280   \n",
       "\n",
       "     og:image:height                                     og:description  \\\n",
       "501              720  ► Check out CoderPro for 100+ Video Explanatio...   \n",
       "\n",
       "     og:video:width  og:video:height    og:video:tag  \\\n",
       "501          1280.0            720.0  data scientist   \n",
       "\n",
       "                        channel_link_0      p  \n",
       "501  /channel/UCV0qA-eDDICsRR9rPcnG7tw  0.134  "
      ]
     },
     "execution_count": 38,
     "metadata": {},
     "output_type": "execute_result"
    }
   ],
   "source": [
    "df_unlabeled.head(1)"
   ]
  },
  {
   "cell_type": "code",
   "execution_count": 39,
   "metadata": {},
   "outputs": [
    {
     "data": {
      "text/plain": [
       "66"
      ]
     },
     "execution_count": 39,
     "metadata": {},
     "output_type": "execute_result"
    }
   ],
   "source": [
    "mask_u = (df_unlabeled['p'] >= 0.43) & (df_unlabeled['p'] <= 1.)\n",
    "mask_u.sum()"
   ]
  },
  {
   "cell_type": "code",
   "execution_count": 40,
   "metadata": {},
   "outputs": [
    {
     "data": {
      "text/html": [
       "<div>\n",
       "<style scoped>\n",
       "    .dataframe tbody tr th:only-of-type {\n",
       "        vertical-align: middle;\n",
       "    }\n",
       "\n",
       "    .dataframe tbody tr th {\n",
       "        vertical-align: top;\n",
       "    }\n",
       "\n",
       "    .dataframe thead th {\n",
       "        text-align: right;\n",
       "    }\n",
       "</style>\n",
       "<table border=\"1\" class=\"dataframe\">\n",
       "  <thead>\n",
       "    <tr style=\"text-align: right;\">\n",
       "      <th></th>\n",
       "      <th>watch-title</th>\n",
       "      <th>y</th>\n",
       "      <th>watch-view-count</th>\n",
       "      <th>watch-time-text</th>\n",
       "      <th>content_watch-info-tag-list</th>\n",
       "      <th>watch7-headline</th>\n",
       "      <th>watch7-user-header</th>\n",
       "      <th>watch8-sentiment-actions</th>\n",
       "      <th>og:image</th>\n",
       "      <th>og:image:width</th>\n",
       "      <th>og:image:height</th>\n",
       "      <th>og:description</th>\n",
       "      <th>og:video:width</th>\n",
       "      <th>og:video:height</th>\n",
       "      <th>og:video:tag</th>\n",
       "      <th>channel_link_0</th>\n",
       "      <th>p</th>\n",
       "    </tr>\n",
       "  </thead>\n",
       "  <tbody>\n",
       "    <tr>\n",
       "      <th>510</th>\n",
       "      <td>Lecture 11 - Introduction to Neural Networks |...</td>\n",
       "      <td>NaN</td>\n",
       "      <td>8.831 visualizações</td>\n",
       "      <td>Publicado em 17 de abr. de 2020</td>\n",
       "      <td>Educação</td>\n",
       "      <td>Lecture 11 - Introduction to Neural Networks |...</td>\n",
       "      <td>stanfordonline\\nCarregando...\\nCancelar inscri...</td>\n",
       "      <td>8.831 visualizações\\n127\\nGostou deste vídeo?\\...</td>\n",
       "      <td>https://i.ytimg.com/vi/MfIjxPh6Pys/maxresdefau...</td>\n",
       "      <td>1280</td>\n",
       "      <td>720</td>\n",
       "      <td>Take an adapted version of this course as part...</td>\n",
       "      <td>1280.0</td>\n",
       "      <td>720.0</td>\n",
       "      <td>NaN</td>\n",
       "      <td>/channel/UCBa5G_ESCn8Yd4vw5U-gIcg</td>\n",
       "      <td>0.529</td>\n",
       "    </tr>\n",
       "    <tr>\n",
       "      <th>530</th>\n",
       "      <td>Kaggle Competition- Dengue or Malaria Predicti...</td>\n",
       "      <td>NaN</td>\n",
       "      <td>4.679 visualizações</td>\n",
       "      <td>Publicado em 17 de set. de 2019</td>\n",
       "      <td>Educação</td>\n",
       "      <td>#MalariaDetection\\nKaggle Competition- Dengue ...</td>\n",
       "      <td>Krish Naik\\nCarregando...\\nCancelar inscrição ...</td>\n",
       "      <td>4.679 visualizações\\n92\\nGostou deste vídeo?\\n...</td>\n",
       "      <td>https://i.ytimg.com/vi/NjvX4BhOjOw/hqdefault.jpg</td>\n",
       "      <td>480</td>\n",
       "      <td>360</td>\n",
       "      <td>In this video we will implement transfer learn...</td>\n",
       "      <td>1280.0</td>\n",
       "      <td>720.0</td>\n",
       "      <td>VGG19</td>\n",
       "      <td>/channel/UCNU_lfiiWBdtULKOw6X0Dig</td>\n",
       "      <td>0.542</td>\n",
       "    </tr>\n",
       "    <tr>\n",
       "      <th>538</th>\n",
       "      <td>Career AMA with Jeff Dean | CareerCon 2019| Ka...</td>\n",
       "      <td>NaN</td>\n",
       "      <td>1.293 visualizações</td>\n",
       "      <td>Publicado em 15 de ago. de 2019</td>\n",
       "      <td>Ciência e tecnologia</td>\n",
       "      <td>Career AMA with Jeff Dean | CareerCon 2019| Ka...</td>\n",
       "      <td>Kaggle\\nCarregando...\\nCancelar inscrição de K...</td>\n",
       "      <td>1.293 visualizações\\n45\\nGostou deste vídeo?\\n...</td>\n",
       "      <td>https://i.ytimg.com/vi/OCij9sjR1xU/maxresdefau...</td>\n",
       "      <td>1280</td>\n",
       "      <td>720</td>\n",
       "      <td>\"In this AMA, Jeff will share his path into da...</td>\n",
       "      <td>1280.0</td>\n",
       "      <td>720.0</td>\n",
       "      <td>CS</td>\n",
       "      <td>/channel/UCSNeZleDn9c74yQc-EKnVTA</td>\n",
       "      <td>0.718</td>\n",
       "    </tr>\n",
       "    <tr>\n",
       "      <th>547</th>\n",
       "      <td>Lecture 13 - Debugging ML Models and Error Ana...</td>\n",
       "      <td>NaN</td>\n",
       "      <td>3.022 visualizações</td>\n",
       "      <td>Publicado em 17 de abr. de 2020</td>\n",
       "      <td>Educação</td>\n",
       "      <td>Lecture 13 - Debugging ML Models and Error Ana...</td>\n",
       "      <td>stanfordonline\\nCarregando...\\nCancelar inscri...</td>\n",
       "      <td>3.022 visualizações\\n55\\nGostou deste vídeo?\\n...</td>\n",
       "      <td>https://i.ytimg.com/vi/ORrStCArmP4/maxresdefau...</td>\n",
       "      <td>1280</td>\n",
       "      <td>720</td>\n",
       "      <td>Take an adapted version of this course as part...</td>\n",
       "      <td>1280.0</td>\n",
       "      <td>720.0</td>\n",
       "      <td>NaN</td>\n",
       "      <td>/channel/UCBa5G_ESCn8Yd4vw5U-gIcg</td>\n",
       "      <td>0.533</td>\n",
       "    </tr>\n",
       "    <tr>\n",
       "      <th>559</th>\n",
       "      <td>Porque estudar Data Science com a Udacity e a ...</td>\n",
       "      <td>NaN</td>\n",
       "      <td>9.431 visualizações</td>\n",
       "      <td>Publicado em 23 de nov. de 2018</td>\n",
       "      <td>Ciência e tecnologia</td>\n",
       "      <td>Porque estudar Data Science com a Udacity e a ...</td>\n",
       "      <td>TecMundo\\nCarregando...\\nCancelar inscrição de...</td>\n",
       "      <td>9.431 visualizações\\n686\\nGostou deste vídeo?\\...</td>\n",
       "      <td>https://i.ytimg.com/vi/Opc9D-CTPuQ/maxresdefau...</td>\n",
       "      <td>1280</td>\n",
       "      <td>720</td>\n",
       "      <td>#[Tipo: Publieditorial] CRÉDITOS Texto: Leonar...</td>\n",
       "      <td>1280.0</td>\n",
       "      <td>720.0</td>\n",
       "      <td>notícias</td>\n",
       "      <td>/channel/UCdmGjywrxeOPfC7vDllmSgQ</td>\n",
       "      <td>0.587</td>\n",
       "    </tr>\n",
       "    <tr>\n",
       "      <th>...</th>\n",
       "      <td>...</td>\n",
       "      <td>...</td>\n",
       "      <td>...</td>\n",
       "      <td>...</td>\n",
       "      <td>...</td>\n",
       "      <td>...</td>\n",
       "      <td>...</td>\n",
       "      <td>...</td>\n",
       "      <td>...</td>\n",
       "      <td>...</td>\n",
       "      <td>...</td>\n",
       "      <td>...</td>\n",
       "      <td>...</td>\n",
       "      <td>...</td>\n",
       "      <td>...</td>\n",
       "      <td>...</td>\n",
       "      <td>...</td>\n",
       "    </tr>\n",
       "    <tr>\n",
       "      <th>1313</th>\n",
       "      <td>How to Spec a Deep learning PC | 2019 PC Buyin...</td>\n",
       "      <td>NaN</td>\n",
       "      <td>28.530 visualizações</td>\n",
       "      <td>Publicado em 10 de mai. de 2019</td>\n",
       "      <td>Educação</td>\n",
       "      <td>How to Spec a Deep learning PC | 2019 PC Buyin...</td>\n",
       "      <td>Machine Learning with Phil\\nCarregando...\\nCan...</td>\n",
       "      <td>28.530 visualizações\\n518\\nGostou deste vídeo?...</td>\n",
       "      <td>https://i.ytimg.com/vi/xsnVlMWQj8o/maxresdefau...</td>\n",
       "      <td>1280</td>\n",
       "      <td>720</td>\n",
       "      <td>Today I'll give my recommendations on what com...</td>\n",
       "      <td>1280.0</td>\n",
       "      <td>720.0</td>\n",
       "      <td>deep reinforcement learning</td>\n",
       "      <td>/channel/UC58v9cLitc8VaCjrcKyAbrw</td>\n",
       "      <td>0.434</td>\n",
       "    </tr>\n",
       "    <tr>\n",
       "      <th>1317</th>\n",
       "      <td>Conda Environments : Data Science Code</td>\n",
       "      <td>NaN</td>\n",
       "      <td>16 visualizações</td>\n",
       "      <td>Publicado em 1 de jun. de 2020</td>\n",
       "      <td>Educação</td>\n",
       "      <td>Conda Environments : Data Science Code</td>\n",
       "      <td>ritvikmath\\nCarregando...\\nCancelar inscrição ...</td>\n",
       "      <td>16 visualizações\\n2\\nGostou deste vídeo?\\nFaça...</td>\n",
       "      <td>https://i.ytimg.com/vi/xyQn8cNOP78/hqdefault.jpg</td>\n",
       "      <td>480</td>\n",
       "      <td>360</td>\n",
       "      <td>All about Conda Environments!</td>\n",
       "      <td>1280.0</td>\n",
       "      <td>720.0</td>\n",
       "      <td>code</td>\n",
       "      <td>/channel/UCUcpVoi5KkJmnE3bvEhHR0Q</td>\n",
       "      <td>0.498</td>\n",
       "    </tr>\n",
       "    <tr>\n",
       "      <th>1331</th>\n",
       "      <td>Kaggle Meetup: Landmark Recognition</td>\n",
       "      <td>NaN</td>\n",
       "      <td>900 visualizações</td>\n",
       "      <td>Publicado em 13 de jul. de 2018</td>\n",
       "      <td>Ciência e tecnologia</td>\n",
       "      <td>Kaggle Meetup: Landmark Recognition</td>\n",
       "      <td>Learn Data Science\\nCarregando...\\nCancelar in...</td>\n",
       "      <td>900 visualizações\\n6\\nGostou deste vídeo?\\nFaç...</td>\n",
       "      <td>https://i.ytimg.com/vi/ymMsDG5kA94/maxresdefau...</td>\n",
       "      <td>1280</td>\n",
       "      <td>720</td>\n",
       "      <td>Meetup page: https://www.meetup.com/LearnDataS...</td>\n",
       "      <td>1280.0</td>\n",
       "      <td>720.0</td>\n",
       "      <td>yvr</td>\n",
       "      <td>/channel/UCJhW_16uxALr0X4olEW2p5A</td>\n",
       "      <td>0.483</td>\n",
       "    </tr>\n",
       "    <tr>\n",
       "      <th>1354</th>\n",
       "      <td>How to find Data Science Jobs During Recession...</td>\n",
       "      <td>NaN</td>\n",
       "      <td>177 visualizações</td>\n",
       "      <td>Publicado em 31 de mai. de 2020</td>\n",
       "      <td>Educação</td>\n",
       "      <td>#vision2020 #aiforeveryone #pythonnumpy\\nHow t...</td>\n",
       "      <td>Artificial Intelligence Tutorials\\nCarregando....</td>\n",
       "      <td>177 visualizações\\nGostou deste vídeo?\\nFaça l...</td>\n",
       "      <td>https://i.ytimg.com/vi/zoJCD7-vaxQ/maxresdefau...</td>\n",
       "      <td>1280</td>\n",
       "      <td>720</td>\n",
       "      <td>#vision2020 #aiforeveryone #pythonnumpy : \"My ...</td>\n",
       "      <td>1280.0</td>\n",
       "      <td>720.0</td>\n",
       "      <td>how to search job</td>\n",
       "      <td>/channel/UCNJuXA_sPosZGolgPzdWnXw</td>\n",
       "      <td>0.446</td>\n",
       "    </tr>\n",
       "    <tr>\n",
       "      <th>1357</th>\n",
       "      <td>What's the Best Career Advice You've Been Give...</td>\n",
       "      <td>NaN</td>\n",
       "      <td>16.327 visualizações</td>\n",
       "      <td>Publicado em 18 de mar. de 2019</td>\n",
       "      <td>Ciência e tecnologia</td>\n",
       "      <td>What's the Best Career Advice You've Been Give...</td>\n",
       "      <td>Kaggle\\nCarregando...\\nCancelar inscrição de K...</td>\n",
       "      <td>16.327 visualizações\\n15\\nGostou deste vídeo?\\...</td>\n",
       "      <td>https://i.ytimg.com/vi/zz05VaLcgsw/maxresdefau...</td>\n",
       "      <td>1280</td>\n",
       "      <td>720</td>\n",
       "      <td>Register for CareerCon 2019: https://www.kaggl...</td>\n",
       "      <td>1280.0</td>\n",
       "      <td>720.0</td>\n",
       "      <td>careercon</td>\n",
       "      <td>/channel/UCSNeZleDn9c74yQc-EKnVTA</td>\n",
       "      <td>0.484</td>\n",
       "    </tr>\n",
       "  </tbody>\n",
       "</table>\n",
       "<p>66 rows × 17 columns</p>\n",
       "</div>"
      ],
      "text/plain": [
       "                                            watch-title   y  \\\n",
       "510   Lecture 11 - Introduction to Neural Networks |... NaN   \n",
       "530   Kaggle Competition- Dengue or Malaria Predicti... NaN   \n",
       "538   Career AMA with Jeff Dean | CareerCon 2019| Ka... NaN   \n",
       "547   Lecture 13 - Debugging ML Models and Error Ana... NaN   \n",
       "559   Porque estudar Data Science com a Udacity e a ... NaN   \n",
       "...                                                 ...  ..   \n",
       "1313  How to Spec a Deep learning PC | 2019 PC Buyin... NaN   \n",
       "1317             Conda Environments : Data Science Code NaN   \n",
       "1331                Kaggle Meetup: Landmark Recognition NaN   \n",
       "1354  How to find Data Science Jobs During Recession... NaN   \n",
       "1357  What's the Best Career Advice You've Been Give... NaN   \n",
       "\n",
       "          watch-view-count                  watch-time-text  \\\n",
       "510    8.831 visualizações  Publicado em 17 de abr. de 2020   \n",
       "530    4.679 visualizações  Publicado em 17 de set. de 2019   \n",
       "538    1.293 visualizações  Publicado em 15 de ago. de 2019   \n",
       "547    3.022 visualizações  Publicado em 17 de abr. de 2020   \n",
       "559    9.431 visualizações  Publicado em 23 de nov. de 2018   \n",
       "...                    ...                              ...   \n",
       "1313  28.530 visualizações  Publicado em 10 de mai. de 2019   \n",
       "1317      16 visualizações   Publicado em 1 de jun. de 2020   \n",
       "1331     900 visualizações  Publicado em 13 de jul. de 2018   \n",
       "1354     177 visualizações  Publicado em 31 de mai. de 2020   \n",
       "1357  16.327 visualizações  Publicado em 18 de mar. de 2019   \n",
       "\n",
       "     content_watch-info-tag-list  \\\n",
       "510                     Educação   \n",
       "530                     Educação   \n",
       "538         Ciência e tecnologia   \n",
       "547                     Educação   \n",
       "559         Ciência e tecnologia   \n",
       "...                          ...   \n",
       "1313                    Educação   \n",
       "1317                    Educação   \n",
       "1331        Ciência e tecnologia   \n",
       "1354                    Educação   \n",
       "1357        Ciência e tecnologia   \n",
       "\n",
       "                                        watch7-headline  \\\n",
       "510   Lecture 11 - Introduction to Neural Networks |...   \n",
       "530   #MalariaDetection\\nKaggle Competition- Dengue ...   \n",
       "538   Career AMA with Jeff Dean | CareerCon 2019| Ka...   \n",
       "547   Lecture 13 - Debugging ML Models and Error Ana...   \n",
       "559   Porque estudar Data Science com a Udacity e a ...   \n",
       "...                                                 ...   \n",
       "1313  How to Spec a Deep learning PC | 2019 PC Buyin...   \n",
       "1317             Conda Environments : Data Science Code   \n",
       "1331                Kaggle Meetup: Landmark Recognition   \n",
       "1354  #vision2020 #aiforeveryone #pythonnumpy\\nHow t...   \n",
       "1357  What's the Best Career Advice You've Been Give...   \n",
       "\n",
       "                                     watch7-user-header  \\\n",
       "510   stanfordonline\\nCarregando...\\nCancelar inscri...   \n",
       "530   Krish Naik\\nCarregando...\\nCancelar inscrição ...   \n",
       "538   Kaggle\\nCarregando...\\nCancelar inscrição de K...   \n",
       "547   stanfordonline\\nCarregando...\\nCancelar inscri...   \n",
       "559   TecMundo\\nCarregando...\\nCancelar inscrição de...   \n",
       "...                                                 ...   \n",
       "1313  Machine Learning with Phil\\nCarregando...\\nCan...   \n",
       "1317  ritvikmath\\nCarregando...\\nCancelar inscrição ...   \n",
       "1331  Learn Data Science\\nCarregando...\\nCancelar in...   \n",
       "1354  Artificial Intelligence Tutorials\\nCarregando....   \n",
       "1357  Kaggle\\nCarregando...\\nCancelar inscrição de K...   \n",
       "\n",
       "                               watch8-sentiment-actions  \\\n",
       "510   8.831 visualizações\\n127\\nGostou deste vídeo?\\...   \n",
       "530   4.679 visualizações\\n92\\nGostou deste vídeo?\\n...   \n",
       "538   1.293 visualizações\\n45\\nGostou deste vídeo?\\n...   \n",
       "547   3.022 visualizações\\n55\\nGostou deste vídeo?\\n...   \n",
       "559   9.431 visualizações\\n686\\nGostou deste vídeo?\\...   \n",
       "...                                                 ...   \n",
       "1313  28.530 visualizações\\n518\\nGostou deste vídeo?...   \n",
       "1317  16 visualizações\\n2\\nGostou deste vídeo?\\nFaça...   \n",
       "1331  900 visualizações\\n6\\nGostou deste vídeo?\\nFaç...   \n",
       "1354  177 visualizações\\nGostou deste vídeo?\\nFaça l...   \n",
       "1357  16.327 visualizações\\n15\\nGostou deste vídeo?\\...   \n",
       "\n",
       "                                               og:image  og:image:width  \\\n",
       "510   https://i.ytimg.com/vi/MfIjxPh6Pys/maxresdefau...            1280   \n",
       "530    https://i.ytimg.com/vi/NjvX4BhOjOw/hqdefault.jpg             480   \n",
       "538   https://i.ytimg.com/vi/OCij9sjR1xU/maxresdefau...            1280   \n",
       "547   https://i.ytimg.com/vi/ORrStCArmP4/maxresdefau...            1280   \n",
       "559   https://i.ytimg.com/vi/Opc9D-CTPuQ/maxresdefau...            1280   \n",
       "...                                                 ...             ...   \n",
       "1313  https://i.ytimg.com/vi/xsnVlMWQj8o/maxresdefau...            1280   \n",
       "1317   https://i.ytimg.com/vi/xyQn8cNOP78/hqdefault.jpg             480   \n",
       "1331  https://i.ytimg.com/vi/ymMsDG5kA94/maxresdefau...            1280   \n",
       "1354  https://i.ytimg.com/vi/zoJCD7-vaxQ/maxresdefau...            1280   \n",
       "1357  https://i.ytimg.com/vi/zz05VaLcgsw/maxresdefau...            1280   \n",
       "\n",
       "      og:image:height                                     og:description  \\\n",
       "510               720  Take an adapted version of this course as part...   \n",
       "530               360  In this video we will implement transfer learn...   \n",
       "538               720  \"In this AMA, Jeff will share his path into da...   \n",
       "547               720  Take an adapted version of this course as part...   \n",
       "559               720  #[Tipo: Publieditorial] CRÉDITOS Texto: Leonar...   \n",
       "...               ...                                                ...   \n",
       "1313              720  Today I'll give my recommendations on what com...   \n",
       "1317              360                      All about Conda Environments!   \n",
       "1331              720  Meetup page: https://www.meetup.com/LearnDataS...   \n",
       "1354              720  #vision2020 #aiforeveryone #pythonnumpy : \"My ...   \n",
       "1357              720  Register for CareerCon 2019: https://www.kaggl...   \n",
       "\n",
       "      og:video:width  og:video:height                 og:video:tag  \\\n",
       "510           1280.0            720.0                          NaN   \n",
       "530           1280.0            720.0                        VGG19   \n",
       "538           1280.0            720.0                           CS   \n",
       "547           1280.0            720.0                          NaN   \n",
       "559           1280.0            720.0                     notícias   \n",
       "...              ...              ...                          ...   \n",
       "1313          1280.0            720.0  deep reinforcement learning   \n",
       "1317          1280.0            720.0                         code   \n",
       "1331          1280.0            720.0                          yvr   \n",
       "1354          1280.0            720.0            how to search job   \n",
       "1357          1280.0            720.0                    careercon   \n",
       "\n",
       "                         channel_link_0      p  \n",
       "510   /channel/UCBa5G_ESCn8Yd4vw5U-gIcg  0.529  \n",
       "530   /channel/UCNU_lfiiWBdtULKOw6X0Dig  0.542  \n",
       "538   /channel/UCSNeZleDn9c74yQc-EKnVTA  0.718  \n",
       "547   /channel/UCBa5G_ESCn8Yd4vw5U-gIcg  0.533  \n",
       "559   /channel/UCdmGjywrxeOPfC7vDllmSgQ  0.587  \n",
       "...                                 ...    ...  \n",
       "1313  /channel/UC58v9cLitc8VaCjrcKyAbrw  0.434  \n",
       "1317  /channel/UCUcpVoi5KkJmnE3bvEhHR0Q  0.498  \n",
       "1331  /channel/UCJhW_16uxALr0X4olEW2p5A  0.483  \n",
       "1354  /channel/UCNJuXA_sPosZGolgPzdWnXw  0.446  \n",
       "1357  /channel/UCSNeZleDn9c74yQc-EKnVTA  0.484  \n",
       "\n",
       "[66 rows x 17 columns]"
      ]
     },
     "execution_count": 40,
     "metadata": {},
     "output_type": "execute_result"
    }
   ],
   "source": [
    "df_unlabeled[mask_u]"
   ]
  },
  {
   "cell_type": "code",
   "execution_count": 41,
   "metadata": {},
   "outputs": [],
   "source": [
    "dificeis = df_unlabeled[mask_u]"
   ]
  },
  {
   "cell_type": "code",
   "execution_count": 42,
   "metadata": {},
   "outputs": [],
   "source": [
    "aleatorios = df_unlabeled[~mask_u].sample(28, random_state=0)"
   ]
  },
  {
   "cell_type": "code",
   "execution_count": 43,
   "metadata": {},
   "outputs": [],
   "source": [
    "pd.concat([dificeis, aleatorios]).to_csv(\"active_label1.csv\")"
   ]
  },
  {
   "cell_type": "code",
   "execution_count": 44,
   "metadata": {},
   "outputs": [
    {
     "data": {
      "text/html": [
       "<div>\n",
       "<style scoped>\n",
       "    .dataframe tbody tr th:only-of-type {\n",
       "        vertical-align: middle;\n",
       "    }\n",
       "\n",
       "    .dataframe tbody tr th {\n",
       "        vertical-align: top;\n",
       "    }\n",
       "\n",
       "    .dataframe thead th {\n",
       "        text-align: right;\n",
       "    }\n",
       "</style>\n",
       "<table border=\"1\" class=\"dataframe\">\n",
       "  <thead>\n",
       "    <tr style=\"text-align: right;\">\n",
       "      <th></th>\n",
       "      <th>watch-title</th>\n",
       "      <th>y</th>\n",
       "      <th>watch-view-count</th>\n",
       "      <th>watch-time-text</th>\n",
       "      <th>content_watch-info-tag-list</th>\n",
       "      <th>watch7-headline</th>\n",
       "      <th>watch7-user-header</th>\n",
       "      <th>watch8-sentiment-actions</th>\n",
       "      <th>og:image</th>\n",
       "      <th>og:image:width</th>\n",
       "      <th>og:image:height</th>\n",
       "      <th>og:description</th>\n",
       "      <th>og:video:width</th>\n",
       "      <th>og:video:height</th>\n",
       "      <th>og:video:tag</th>\n",
       "      <th>channel_link_0</th>\n",
       "      <th>p</th>\n",
       "    </tr>\n",
       "  </thead>\n",
       "  <tbody>\n",
       "    <tr>\n",
       "      <th>510</th>\n",
       "      <td>Lecture 11 - Introduction to Neural Networks |...</td>\n",
       "      <td>NaN</td>\n",
       "      <td>8.831 visualizações</td>\n",
       "      <td>Publicado em 17 de abr. de 2020</td>\n",
       "      <td>Educação</td>\n",
       "      <td>Lecture 11 - Introduction to Neural Networks |...</td>\n",
       "      <td>stanfordonline\\nCarregando...\\nCancelar inscri...</td>\n",
       "      <td>8.831 visualizações\\n127\\nGostou deste vídeo?\\...</td>\n",
       "      <td>https://i.ytimg.com/vi/MfIjxPh6Pys/maxresdefau...</td>\n",
       "      <td>1280</td>\n",
       "      <td>720</td>\n",
       "      <td>Take an adapted version of this course as part...</td>\n",
       "      <td>1280.0</td>\n",
       "      <td>720.0</td>\n",
       "      <td>NaN</td>\n",
       "      <td>/channel/UCBa5G_ESCn8Yd4vw5U-gIcg</td>\n",
       "      <td>0.529</td>\n",
       "    </tr>\n",
       "    <tr>\n",
       "      <th>530</th>\n",
       "      <td>Kaggle Competition- Dengue or Malaria Predicti...</td>\n",
       "      <td>NaN</td>\n",
       "      <td>4.679 visualizações</td>\n",
       "      <td>Publicado em 17 de set. de 2019</td>\n",
       "      <td>Educação</td>\n",
       "      <td>#MalariaDetection\\nKaggle Competition- Dengue ...</td>\n",
       "      <td>Krish Naik\\nCarregando...\\nCancelar inscrição ...</td>\n",
       "      <td>4.679 visualizações\\n92\\nGostou deste vídeo?\\n...</td>\n",
       "      <td>https://i.ytimg.com/vi/NjvX4BhOjOw/hqdefault.jpg</td>\n",
       "      <td>480</td>\n",
       "      <td>360</td>\n",
       "      <td>In this video we will implement transfer learn...</td>\n",
       "      <td>1280.0</td>\n",
       "      <td>720.0</td>\n",
       "      <td>VGG19</td>\n",
       "      <td>/channel/UCNU_lfiiWBdtULKOw6X0Dig</td>\n",
       "      <td>0.542</td>\n",
       "    </tr>\n",
       "    <tr>\n",
       "      <th>538</th>\n",
       "      <td>Career AMA with Jeff Dean | CareerCon 2019| Ka...</td>\n",
       "      <td>NaN</td>\n",
       "      <td>1.293 visualizações</td>\n",
       "      <td>Publicado em 15 de ago. de 2019</td>\n",
       "      <td>Ciência e tecnologia</td>\n",
       "      <td>Career AMA with Jeff Dean | CareerCon 2019| Ka...</td>\n",
       "      <td>Kaggle\\nCarregando...\\nCancelar inscrição de K...</td>\n",
       "      <td>1.293 visualizações\\n45\\nGostou deste vídeo?\\n...</td>\n",
       "      <td>https://i.ytimg.com/vi/OCij9sjR1xU/maxresdefau...</td>\n",
       "      <td>1280</td>\n",
       "      <td>720</td>\n",
       "      <td>\"In this AMA, Jeff will share his path into da...</td>\n",
       "      <td>1280.0</td>\n",
       "      <td>720.0</td>\n",
       "      <td>CS</td>\n",
       "      <td>/channel/UCSNeZleDn9c74yQc-EKnVTA</td>\n",
       "      <td>0.718</td>\n",
       "    </tr>\n",
       "    <tr>\n",
       "      <th>547</th>\n",
       "      <td>Lecture 13 - Debugging ML Models and Error Ana...</td>\n",
       "      <td>NaN</td>\n",
       "      <td>3.022 visualizações</td>\n",
       "      <td>Publicado em 17 de abr. de 2020</td>\n",
       "      <td>Educação</td>\n",
       "      <td>Lecture 13 - Debugging ML Models and Error Ana...</td>\n",
       "      <td>stanfordonline\\nCarregando...\\nCancelar inscri...</td>\n",
       "      <td>3.022 visualizações\\n55\\nGostou deste vídeo?\\n...</td>\n",
       "      <td>https://i.ytimg.com/vi/ORrStCArmP4/maxresdefau...</td>\n",
       "      <td>1280</td>\n",
       "      <td>720</td>\n",
       "      <td>Take an adapted version of this course as part...</td>\n",
       "      <td>1280.0</td>\n",
       "      <td>720.0</td>\n",
       "      <td>NaN</td>\n",
       "      <td>/channel/UCBa5G_ESCn8Yd4vw5U-gIcg</td>\n",
       "      <td>0.533</td>\n",
       "    </tr>\n",
       "    <tr>\n",
       "      <th>559</th>\n",
       "      <td>Porque estudar Data Science com a Udacity e a ...</td>\n",
       "      <td>NaN</td>\n",
       "      <td>9.431 visualizações</td>\n",
       "      <td>Publicado em 23 de nov. de 2018</td>\n",
       "      <td>Ciência e tecnologia</td>\n",
       "      <td>Porque estudar Data Science com a Udacity e a ...</td>\n",
       "      <td>TecMundo\\nCarregando...\\nCancelar inscrição de...</td>\n",
       "      <td>9.431 visualizações\\n686\\nGostou deste vídeo?\\...</td>\n",
       "      <td>https://i.ytimg.com/vi/Opc9D-CTPuQ/maxresdefau...</td>\n",
       "      <td>1280</td>\n",
       "      <td>720</td>\n",
       "      <td>#[Tipo: Publieditorial] CRÉDITOS Texto: Leonar...</td>\n",
       "      <td>1280.0</td>\n",
       "      <td>720.0</td>\n",
       "      <td>notícias</td>\n",
       "      <td>/channel/UCdmGjywrxeOPfC7vDllmSgQ</td>\n",
       "      <td>0.587</td>\n",
       "    </tr>\n",
       "  </tbody>\n",
       "</table>\n",
       "</div>"
      ],
      "text/plain": [
       "                                           watch-title   y  \\\n",
       "510  Lecture 11 - Introduction to Neural Networks |... NaN   \n",
       "530  Kaggle Competition- Dengue or Malaria Predicti... NaN   \n",
       "538  Career AMA with Jeff Dean | CareerCon 2019| Ka... NaN   \n",
       "547  Lecture 13 - Debugging ML Models and Error Ana... NaN   \n",
       "559  Porque estudar Data Science com a Udacity e a ... NaN   \n",
       "\n",
       "        watch-view-count                  watch-time-text  \\\n",
       "510  8.831 visualizações  Publicado em 17 de abr. de 2020   \n",
       "530  4.679 visualizações  Publicado em 17 de set. de 2019   \n",
       "538  1.293 visualizações  Publicado em 15 de ago. de 2019   \n",
       "547  3.022 visualizações  Publicado em 17 de abr. de 2020   \n",
       "559  9.431 visualizações  Publicado em 23 de nov. de 2018   \n",
       "\n",
       "    content_watch-info-tag-list  \\\n",
       "510                    Educação   \n",
       "530                    Educação   \n",
       "538        Ciência e tecnologia   \n",
       "547                    Educação   \n",
       "559        Ciência e tecnologia   \n",
       "\n",
       "                                       watch7-headline  \\\n",
       "510  Lecture 11 - Introduction to Neural Networks |...   \n",
       "530  #MalariaDetection\\nKaggle Competition- Dengue ...   \n",
       "538  Career AMA with Jeff Dean | CareerCon 2019| Ka...   \n",
       "547  Lecture 13 - Debugging ML Models and Error Ana...   \n",
       "559  Porque estudar Data Science com a Udacity e a ...   \n",
       "\n",
       "                                    watch7-user-header  \\\n",
       "510  stanfordonline\\nCarregando...\\nCancelar inscri...   \n",
       "530  Krish Naik\\nCarregando...\\nCancelar inscrição ...   \n",
       "538  Kaggle\\nCarregando...\\nCancelar inscrição de K...   \n",
       "547  stanfordonline\\nCarregando...\\nCancelar inscri...   \n",
       "559  TecMundo\\nCarregando...\\nCancelar inscrição de...   \n",
       "\n",
       "                              watch8-sentiment-actions  \\\n",
       "510  8.831 visualizações\\n127\\nGostou deste vídeo?\\...   \n",
       "530  4.679 visualizações\\n92\\nGostou deste vídeo?\\n...   \n",
       "538  1.293 visualizações\\n45\\nGostou deste vídeo?\\n...   \n",
       "547  3.022 visualizações\\n55\\nGostou deste vídeo?\\n...   \n",
       "559  9.431 visualizações\\n686\\nGostou deste vídeo?\\...   \n",
       "\n",
       "                                              og:image  og:image:width  \\\n",
       "510  https://i.ytimg.com/vi/MfIjxPh6Pys/maxresdefau...            1280   \n",
       "530   https://i.ytimg.com/vi/NjvX4BhOjOw/hqdefault.jpg             480   \n",
       "538  https://i.ytimg.com/vi/OCij9sjR1xU/maxresdefau...            1280   \n",
       "547  https://i.ytimg.com/vi/ORrStCArmP4/maxresdefau...            1280   \n",
       "559  https://i.ytimg.com/vi/Opc9D-CTPuQ/maxresdefau...            1280   \n",
       "\n",
       "     og:image:height                                     og:description  \\\n",
       "510              720  Take an adapted version of this course as part...   \n",
       "530              360  In this video we will implement transfer learn...   \n",
       "538              720  \"In this AMA, Jeff will share his path into da...   \n",
       "547              720  Take an adapted version of this course as part...   \n",
       "559              720  #[Tipo: Publieditorial] CRÉDITOS Texto: Leonar...   \n",
       "\n",
       "     og:video:width  og:video:height og:video:tag  \\\n",
       "510          1280.0            720.0          NaN   \n",
       "530          1280.0            720.0        VGG19   \n",
       "538          1280.0            720.0           CS   \n",
       "547          1280.0            720.0          NaN   \n",
       "559          1280.0            720.0     notícias   \n",
       "\n",
       "                        channel_link_0      p  \n",
       "510  /channel/UCBa5G_ESCn8Yd4vw5U-gIcg  0.529  \n",
       "530  /channel/UCNU_lfiiWBdtULKOw6X0Dig  0.542  \n",
       "538  /channel/UCSNeZleDn9c74yQc-EKnVTA  0.718  \n",
       "547  /channel/UCBa5G_ESCn8Yd4vw5U-gIcg  0.533  \n",
       "559  /channel/UCdmGjywrxeOPfC7vDllmSgQ  0.587  "
      ]
     },
     "execution_count": 44,
     "metadata": {},
     "output_type": "execute_result"
    }
   ],
   "source": [
    "dificeis.head()"
   ]
  }
 ],
 "metadata": {
  "kernelspec": {
   "display_name": "Python 3",
   "language": "python",
   "name": "python3"
  },
  "language_info": {
   "codemirror_mode": {
    "name": "ipython",
    "version": 3
   },
   "file_extension": ".py",
   "mimetype": "text/x-python",
   "name": "python",
   "nbconvert_exporter": "python",
   "pygments_lexer": "ipython3",
   "version": "3.7.6"
  }
 },
 "nbformat": 4,
 "nbformat_minor": 4
}

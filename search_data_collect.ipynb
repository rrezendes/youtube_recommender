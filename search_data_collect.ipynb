{
 "cells": [
  {
   "cell_type": "code",
   "execution_count": 1,
   "metadata": {},
   "outputs": [],
   "source": [
    "import pandas as pd\n",
    "import numpy as np\n",
    "import re\n",
    "import time\n",
    "import json\n",
    "\n",
    "import requests as rq\n",
    "import bs4 as bs4"
   ]
  },
  {
   "cell_type": "code",
   "execution_count": 2,
   "metadata": {},
   "outputs": [],
   "source": [
    "queries = [\"machine+learning\",\"data+science\",\"kaggle\"]\n",
    "url = \"https://www.youtube.com/results?search_query={query}&sp=CAI%253D&p={page}\""
   ]
  },
  {
   "cell_type": "markdown",
   "metadata": {},
   "source": [
    "## Data collect"
   ]
  },
  {
   "cell_type": "code",
   "execution_count": 5,
   "metadata": {},
   "outputs": [
    {
     "name": "stdout",
     "output_type": "stream",
     "text": [
      "https://www.youtube.com/results?search_query=machine+learning&sp=CAI%253D&p=1\n",
      "https://www.youtube.com/results?search_query=machine+learning&sp=CAI%253D&p=2\n",
      "https://www.youtube.com/results?search_query=machine+learning&sp=CAI%253D&p=3\n",
      "https://www.youtube.com/results?search_query=machine+learning&sp=CAI%253D&p=4\n",
      "https://www.youtube.com/results?search_query=data+science&sp=CAI%253D&p=1\n",
      "https://www.youtube.com/results?search_query=data+science&sp=CAI%253D&p=2\n",
      "https://www.youtube.com/results?search_query=data+science&sp=CAI%253D&p=3\n",
      "https://www.youtube.com/results?search_query=data+science&sp=CAI%253D&p=4\n",
      "https://www.youtube.com/results?search_query=kaggle&sp=CAI%253D&p=1\n",
      "https://www.youtube.com/results?search_query=kaggle&sp=CAI%253D&p=2\n",
      "https://www.youtube.com/results?search_query=kaggle&sp=CAI%253D&p=3\n",
      "https://www.youtube.com/results?search_query=kaggle&sp=CAI%253D&p=4\n"
     ]
    }
   ],
   "source": [
    "for query in queries:\n",
    "    for page in range(1,5):\n",
    "        urll = url.format(query=query,page=page)\n",
    "        print(urll)\n",
    "        response = rq.get(urll)\n",
    "        \n",
    "        with open('./dados_brutos/{}_{}.html'.format(query,page), 'w+', encoding=\"utf-8\") as output:\n",
    "            output.write(response.text)\n",
    "        \n",
    "        time.sleep(2)\n",
    "        "
   ]
  },
  {
   "cell_type": "code",
   "execution_count": 6,
   "metadata": {},
   "outputs": [],
   "source": [
    "for query in queries:\n",
    "    for page in range(1,5):\n",
    "        with open(\"./dados_brutos/{}_{}.html\".format(query,page),'r+',encoding=\"utf-8\") as imp:\n",
    "            page_html = imp.read()\n",
    "            \n",
    "            parsed = bs4.BeautifulSoup(page_html)\n",
    "            \n",
    "            tags = parsed.findAll(\"a\")\n",
    "            \n",
    "            for e in tags:\n",
    "                if e.has_attr(\"aria-describedby\"):\n",
    "                    link = e['href']\n",
    "                    title = e['title']\n",
    "                    with open(\"parsed_videos.json\",'a+',encoding=\"utf-8\") as output:\n",
    "                        data = {\"link\":link,\"title\":title,\"query\":query}\n",
    "                        output.write(\"{}\\n\".format(json.dumps(data)))"
   ]
  },
  {
   "cell_type": "markdown",
   "metadata": {},
   "source": [
    "## Result check"
   ]
  },
  {
   "cell_type": "code",
   "execution_count": 7,
   "metadata": {},
   "outputs": [],
   "source": [
    "df = pd.read_json(\"parsed_videos.json\",lines=True)"
   ]
  },
  {
   "cell_type": "code",
   "execution_count": 8,
   "metadata": {},
   "outputs": [
    {
     "data": {
      "text/html": [
       "<div>\n",
       "<style scoped>\n",
       "    .dataframe tbody tr th:only-of-type {\n",
       "        vertical-align: middle;\n",
       "    }\n",
       "\n",
       "    .dataframe tbody tr th {\n",
       "        vertical-align: top;\n",
       "    }\n",
       "\n",
       "    .dataframe thead th {\n",
       "        text-align: right;\n",
       "    }\n",
       "</style>\n",
       "<table border=\"1\" class=\"dataframe\">\n",
       "  <thead>\n",
       "    <tr style=\"text-align: right;\">\n",
       "      <th></th>\n",
       "      <th>link</th>\n",
       "      <th>title</th>\n",
       "      <th>query</th>\n",
       "    </tr>\n",
       "  </thead>\n",
       "  <tbody>\n",
       "    <tr>\n",
       "      <th>7097</th>\n",
       "      <td>/watch?v=OoB_LQpgDCk</td>\n",
       "      <td>\"Inversion\": Walter Reade | Data Science at Ka...</td>\n",
       "      <td>kaggle</td>\n",
       "    </tr>\n",
       "    <tr>\n",
       "      <th>6950</th>\n",
       "      <td>/watch?v=Lzgixrr40I0</td>\n",
       "      <td>#08 - DataFrame: Introdução, Criação e Indexaç...</td>\n",
       "      <td>data+science</td>\n",
       "    </tr>\n",
       "    <tr>\n",
       "      <th>7103</th>\n",
       "      <td>/watch?v=uVHjY7owVl0</td>\n",
       "      <td>#Kaggle #COVID19 #Data-Science-Diva Walkthroug...</td>\n",
       "      <td>kaggle</td>\n",
       "    </tr>\n",
       "    <tr>\n",
       "      <th>6754</th>\n",
       "      <td>/watch?v=TeMI0vtGQmI</td>\n",
       "      <td>#OnEstEnsemble - La matinale du samedi 30 mai,...</td>\n",
       "      <td>data+science</td>\n",
       "    </tr>\n",
       "    <tr>\n",
       "      <th>7033</th>\n",
       "      <td>/watch?v=IJCiQh-rQRw</td>\n",
       "      <td>#discovery-engine - May 29, 2020 - sync with D...</td>\n",
       "      <td>kaggle</td>\n",
       "    </tr>\n",
       "    <tr>\n",
       "      <th>...</th>\n",
       "      <td>...</td>\n",
       "      <td>...</td>\n",
       "      <td>...</td>\n",
       "    </tr>\n",
       "    <tr>\n",
       "      <th>6833</th>\n",
       "      <td>/watch?v=uHJbgo8A8FM</td>\n",
       "      <td>query - word meaning in Tamil</td>\n",
       "      <td>kaggle</td>\n",
       "    </tr>\n",
       "    <tr>\n",
       "      <th>6700</th>\n",
       "      <td>/watch?v=uHJbgo8A8FM</td>\n",
       "      <td>query - word meaning in Tamil</td>\n",
       "      <td>machine+learning</td>\n",
       "    </tr>\n",
       "    <tr>\n",
       "      <th>6944</th>\n",
       "      <td>/watch?v=gAA4xDs-l4k</td>\n",
       "      <td>vRealize Network Insight: Using Machine Learni...</td>\n",
       "      <td>machine+learning</td>\n",
       "    </tr>\n",
       "    <tr>\n",
       "      <th>6956</th>\n",
       "      <td>/watch?v=GVtPg2chrEc</td>\n",
       "      <td>🇬🇧 Data science and Engineering LM</td>\n",
       "      <td>data+science</td>\n",
       "    </tr>\n",
       "    <tr>\n",
       "      <th>6987</th>\n",
       "      <td>/watch?v=jQlOqnl9SsE</td>\n",
       "      <td>🇬🇧 Data science and engineering</td>\n",
       "      <td>data+science</td>\n",
       "    </tr>\n",
       "  </tbody>\n",
       "</table>\n",
       "<p>7108 rows × 3 columns</p>\n",
       "</div>"
      ],
      "text/plain": [
       "                      link                                              title  \\\n",
       "7097  /watch?v=OoB_LQpgDCk  \"Inversion\": Walter Reade | Data Science at Ka...   \n",
       "6950  /watch?v=Lzgixrr40I0  #08 - DataFrame: Introdução, Criação e Indexaç...   \n",
       "7103  /watch?v=uVHjY7owVl0  #Kaggle #COVID19 #Data-Science-Diva Walkthroug...   \n",
       "6754  /watch?v=TeMI0vtGQmI  #OnEstEnsemble - La matinale du samedi 30 mai,...   \n",
       "7033  /watch?v=IJCiQh-rQRw  #discovery-engine - May 29, 2020 - sync with D...   \n",
       "...                    ...                                                ...   \n",
       "6833  /watch?v=uHJbgo8A8FM                      query - word meaning in Tamil   \n",
       "6700  /watch?v=uHJbgo8A8FM                      query - word meaning in Tamil   \n",
       "6944  /watch?v=gAA4xDs-l4k  vRealize Network Insight: Using Machine Learni...   \n",
       "6956  /watch?v=GVtPg2chrEc                 🇬🇧 Data science and Engineering LM   \n",
       "6987  /watch?v=jQlOqnl9SsE                    🇬🇧 Data science and engineering   \n",
       "\n",
       "                 query  \n",
       "7097            kaggle  \n",
       "6950      data+science  \n",
       "7103            kaggle  \n",
       "6754      data+science  \n",
       "7033            kaggle  \n",
       "...                ...  \n",
       "6833            kaggle  \n",
       "6700  machine+learning  \n",
       "6944  machine+learning  \n",
       "6956      data+science  \n",
       "6987      data+science  \n",
       "\n",
       "[7108 rows x 3 columns]"
      ]
     },
     "execution_count": 8,
     "metadata": {},
     "output_type": "execute_result"
    }
   ],
   "source": [
    "df.sort_values(\"title\")\n"
   ]
  }
 ],
 "metadata": {
  "kernelspec": {
   "display_name": "Python 3",
   "language": "python",
   "name": "python3"
  },
  "language_info": {
   "codemirror_mode": {
    "name": "ipython",
    "version": 3
   },
   "file_extension": ".py",
   "mimetype": "text/x-python",
   "name": "python",
   "nbconvert_exporter": "python",
   "pygments_lexer": "ipython3",
   "version": "3.7.6"
  }
 },
 "nbformat": 4,
 "nbformat_minor": 4
}
